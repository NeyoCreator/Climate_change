{
 "cells": [
  {
   "cell_type": "markdown",
   "metadata": {
    "_cell_guid": "b1076dfc-b9ad-4769-8c92-a6c4dae69d19",
    "_uuid": "8f2839f25d086af736a60e9eeb907d3b93b6e0e5",
    "papermill": {
     "duration": 0.02255,
     "end_time": "2021-06-04T10:58:00.533031",
     "exception": false,
     "start_time": "2021-06-04T10:58:00.510481",
     "status": "completed"
    },
    "tags": []
   },
   "source": [
    "# EDSA -Climate Change Belief Analysis 2021\n",
    "\n",
    "## By Team: Regression_MM2_DSF\n",
    "\n",
    "### Dimakatso Mongwegelwa\n",
    "### Reitumetse Nchoe\n",
    "### Refiloe Dhlamini\n",
    "### Chantell Machobane\n",
    "### Emanuel Dikotla\n",
    "### Neo Sebanze\n"
   ]
  },
  {
   "cell_type": "markdown",
   "metadata": {
    "papermill": {
     "duration": 0.016733,
     "end_time": "2021-06-04T10:58:00.576763",
     "exception": false,
     "start_time": "2021-06-04T10:58:00.560030",
     "status": "completed"
    },
    "tags": []
   },
   "source": [
    "## Challenge Description \n",
    "\n",
    "### Team_MM2 is required to ..."
   ]
  },
  {
   "cell_type": "markdown",
   "metadata": {
    "papermill": {
     "duration": 0.015494,
     "end_time": "2021-06-04T10:58:00.608115",
     "exception": false,
     "start_time": "2021-06-04T10:58:00.592621",
     "status": "completed"
    },
    "tags": []
   },
   "source": [
    "## Dataset Description  "
   ]
  },
  {
   "cell_type": "markdown",
   "metadata": {
    "papermill": {
     "duration": 0.018987,
     "end_time": "2021-06-04T10:58:00.646208",
     "exception": false,
     "start_time": "2021-06-04T10:58:00.627221",
     "status": "completed"
    },
    "tags": []
   },
   "source": [
    "## Notebook Outline \n",
    "\n",
    "1. Package Installation\n",
    "2. Importing Libraries\n",
    "3. Loading the data\n",
    "    * Viewing Data\n",
    "4. Data Cleaning \n",
    "5. Exploratory Data Analysis\n",
    "\n"
   ]
  },
  {
   "cell_type": "markdown",
   "metadata": {
    "papermill": {
     "duration": 0.015682,
     "end_time": "2021-06-04T10:58:00.677781",
     "exception": false,
     "start_time": "2021-06-04T10:58:00.662099",
     "status": "completed"
    },
    "tags": []
   },
   "source": [
    "# Package Installation"
   ]
  },
  {
   "cell_type": "code",
   "execution_count": null,
   "metadata": {
    "papermill": {
     "duration": 0.015718,
     "end_time": "2021-06-04T10:58:00.709557",
     "exception": false,
     "start_time": "2021-06-04T10:58:00.693839",
     "status": "completed"
    },
    "tags": []
   },
   "outputs": [],
   "source": []
  },
  {
   "cell_type": "markdown",
   "metadata": {
    "papermill": {
     "duration": 0.022283,
     "end_time": "2021-06-04T10:58:00.747947",
     "exception": false,
     "start_time": "2021-06-04T10:58:00.725664",
     "status": "completed"
    },
    "tags": []
   },
   "source": [
    "# Importing Libraries "
   ]
  },
  {
   "cell_type": "code",
   "execution_count": 1,
   "metadata": {
    "execution": {
     "iopub.execute_input": "2021-06-04T10:58:00.799567Z",
     "iopub.status.busy": "2021-06-04T10:58:00.798371Z",
     "iopub.status.idle": "2021-06-04T10:58:02.326859Z",
     "shell.execute_reply": "2021-06-04T10:58:02.326040Z",
     "shell.execute_reply.started": "2021-06-04T10:54:12.086324Z"
    },
    "papermill": {
     "duration": 1.559026,
     "end_time": "2021-06-04T10:58:02.327018",
     "exception": false,
     "start_time": "2021-06-04T10:58:00.767992",
     "status": "completed"
    },
    "tags": []
   },
   "outputs": [],
   "source": [
    "import numpy as np # linear algebra\n",
    "import pandas as pd # data processing\n",
    "\n",
    "##Data Cleaning\n",
    "import nltk #\n",
    "import string #to remove all punctuation marks in the corpus/ document\n",
    "from nltk.tokenize import word_tokenize, TreebankWordTokenizer\n",
    "from nltk import SnowballStemmer, PorterStemmer, LancasterStemmer\n",
    "from nltk.stem import WordNetLemmatizer\n",
    "from nltk.corpus import stopwords\n",
    "\n",
    "import matplotlib.pyplot as plt\n",
    "import seaborn as sns\n",
    "%matplotlib inline\n",
    "import re\n",
    "\n",
    "from sklearn.model_selection import train_test_split\n",
    "\n",
    "# set plot style\n",
    "sns.set()"
   ]
  },
  {
   "cell_type": "code",
   "execution_count": 2,
   "metadata": {},
   "outputs": [
    {
     "name": "stderr",
     "output_type": "stream",
     "text": [
      "<ipython-input-2-a09e5efec013>:1: FutureWarning: Passing a negative integer is deprecated in version 1.0 and will not be supported in future version. Instead, use None to not limit the column width.\n",
      "  pd.set_option(\"display.max_colwidth\", -1)\n"
     ]
    }
   ],
   "source": [
    "pd.set_option(\"display.max_colwidth\", -1)"
   ]
  },
  {
   "cell_type": "markdown",
   "metadata": {
    "papermill": {
     "duration": 0.015664,
     "end_time": "2021-06-04T10:58:02.358443",
     "exception": false,
     "start_time": "2021-06-04T10:58:02.342779",
     "status": "completed"
    },
    "tags": []
   },
   "source": [
    "# Loading Data "
   ]
  },
  {
   "cell_type": "code",
   "execution_count": 3,
   "metadata": {
    "execution": {
     "iopub.execute_input": "2021-06-04T10:58:02.394490Z",
     "iopub.status.busy": "2021-06-04T10:58:02.393908Z",
     "iopub.status.idle": "2021-06-04T10:58:02.691103Z",
     "shell.execute_reply": "2021-06-04T10:58:02.690590Z",
     "shell.execute_reply.started": "2021-06-04T10:54:18.215749Z"
    },
    "papermill": {
     "duration": 0.317065,
     "end_time": "2021-06-04T10:58:02.691267",
     "exception": false,
     "start_time": "2021-06-04T10:58:02.374202",
     "status": "completed"
    },
    "tags": []
   },
   "outputs": [],
   "source": [
    "df_train = pd.read_csv(\"train.csv\")\n",
    "\n",
    "df_test = pd.read_csv('test.csv')\n",
    "\n",
    "#df_sample = pd.read_csv('../input/edsa-climate-change-belief-analysis-2021/sample_submission.csv')"
   ]
  },
  {
   "cell_type": "markdown",
   "metadata": {
    "papermill": {
     "duration": 0.016176,
     "end_time": "2021-06-04T10:58:02.723754",
     "exception": false,
     "start_time": "2021-06-04T10:58:02.707578",
     "status": "completed"
    },
    "tags": []
   },
   "source": [
    "### Viewing the Data"
   ]
  },
  {
   "cell_type": "code",
   "execution_count": 4,
   "metadata": {
    "execution": {
     "iopub.execute_input": "2021-06-04T10:58:02.766383Z",
     "iopub.status.busy": "2021-06-04T10:58:02.765602Z",
     "iopub.status.idle": "2021-06-04T10:58:02.780436Z",
     "shell.execute_reply": "2021-06-04T10:58:02.780857Z",
     "shell.execute_reply.started": "2021-06-04T09:24:13.049401Z"
    },
    "papermill": {
     "duration": 0.041121,
     "end_time": "2021-06-04T10:58:02.781025",
     "exception": false,
     "start_time": "2021-06-04T10:58:02.739904",
     "status": "completed"
    },
    "tags": []
   },
   "outputs": [
    {
     "data": {
      "text/html": [
       "<div>\n",
       "<style scoped>\n",
       "    .dataframe tbody tr th:only-of-type {\n",
       "        vertical-align: middle;\n",
       "    }\n",
       "\n",
       "    .dataframe tbody tr th {\n",
       "        vertical-align: top;\n",
       "    }\n",
       "\n",
       "    .dataframe thead th {\n",
       "        text-align: right;\n",
       "    }\n",
       "</style>\n",
       "<table border=\"1\" class=\"dataframe\">\n",
       "  <thead>\n",
       "    <tr style=\"text-align: right;\">\n",
       "      <th></th>\n",
       "      <th>sentiment</th>\n",
       "      <th>message</th>\n",
       "      <th>tweetid</th>\n",
       "    </tr>\n",
       "  </thead>\n",
       "  <tbody>\n",
       "    <tr>\n",
       "      <th>0</th>\n",
       "      <td>1</td>\n",
       "      <td>PolySciMajor EPA chief doesn't think carbon dioxide is main cause of global warming and.. wait, what!? https://t.co/yeLvcEFXkC via @mashable</td>\n",
       "      <td>625221</td>\n",
       "    </tr>\n",
       "    <tr>\n",
       "      <th>1</th>\n",
       "      <td>1</td>\n",
       "      <td>It's not like we lack evidence of anthropogenic global warming</td>\n",
       "      <td>126103</td>\n",
       "    </tr>\n",
       "    <tr>\n",
       "      <th>2</th>\n",
       "      <td>2</td>\n",
       "      <td>RT @RawStory: Researchers say we have three years to act on climate change before it’s too late https://t.co/WdT0KdUr2f https://t.co/Z0ANPT…</td>\n",
       "      <td>698562</td>\n",
       "    </tr>\n",
       "    <tr>\n",
       "      <th>3</th>\n",
       "      <td>1</td>\n",
       "      <td>#TodayinMaker# WIRED : 2016 was a pivotal year in the war on climate change https://t.co/44wOTxTLcD</td>\n",
       "      <td>573736</td>\n",
       "    </tr>\n",
       "    <tr>\n",
       "      <th>4</th>\n",
       "      <td>1</td>\n",
       "      <td>RT @SoyNovioDeTodas: It's 2016, and a racist, sexist, climate change denying bigot is leading in the polls. #ElectionNight</td>\n",
       "      <td>466954</td>\n",
       "    </tr>\n",
       "  </tbody>\n",
       "</table>\n",
       "</div>"
      ],
      "text/plain": [
       "   sentiment  \\\n",
       "0  1           \n",
       "1  1           \n",
       "2  2           \n",
       "3  1           \n",
       "4  1           \n",
       "\n",
       "                                                                                                                                        message  \\\n",
       "0  PolySciMajor EPA chief doesn't think carbon dioxide is main cause of global warming and.. wait, what!? https://t.co/yeLvcEFXkC via @mashable   \n",
       "1  It's not like we lack evidence of anthropogenic global warming                                                                                 \n",
       "2  RT @RawStory: Researchers say we have three years to act on climate change before it’s too late https://t.co/WdT0KdUr2f https://t.co/Z0ANPT…   \n",
       "3  #TodayinMaker# WIRED : 2016 was a pivotal year in the war on climate change https://t.co/44wOTxTLcD                                            \n",
       "4  RT @SoyNovioDeTodas: It's 2016, and a racist, sexist, climate change denying bigot is leading in the polls. #ElectionNight                     \n",
       "\n",
       "   tweetid  \n",
       "0  625221   \n",
       "1  126103   \n",
       "2  698562   \n",
       "3  573736   \n",
       "4  466954   "
      ]
     },
     "execution_count": 4,
     "metadata": {},
     "output_type": "execute_result"
    }
   ],
   "source": [
    "df_train.head()"
   ]
  },
  {
   "cell_type": "code",
   "execution_count": 5,
   "metadata": {
    "execution": {
     "iopub.execute_input": "2021-06-04T10:58:02.816638Z",
     "iopub.status.busy": "2021-06-04T10:58:02.816076Z",
     "iopub.status.idle": "2021-06-04T10:58:02.823621Z",
     "shell.execute_reply": "2021-06-04T10:58:02.824024Z",
     "shell.execute_reply.started": "2021-06-04T09:24:16.91167Z"
    },
    "papermill": {
     "duration": 0.026499,
     "end_time": "2021-06-04T10:58:02.824218",
     "exception": false,
     "start_time": "2021-06-04T10:58:02.797719",
     "status": "completed"
    },
    "tags": []
   },
   "outputs": [
    {
     "data": {
      "text/html": [
       "<div>\n",
       "<style scoped>\n",
       "    .dataframe tbody tr th:only-of-type {\n",
       "        vertical-align: middle;\n",
       "    }\n",
       "\n",
       "    .dataframe tbody tr th {\n",
       "        vertical-align: top;\n",
       "    }\n",
       "\n",
       "    .dataframe thead th {\n",
       "        text-align: right;\n",
       "    }\n",
       "</style>\n",
       "<table border=\"1\" class=\"dataframe\">\n",
       "  <thead>\n",
       "    <tr style=\"text-align: right;\">\n",
       "      <th></th>\n",
       "      <th>message</th>\n",
       "      <th>tweetid</th>\n",
       "    </tr>\n",
       "  </thead>\n",
       "  <tbody>\n",
       "    <tr>\n",
       "      <th>0</th>\n",
       "      <td>Europe will now be looking to China to make sure that it is not alone in fighting climate change… https://t.co/O7T8rCgwDq</td>\n",
       "      <td>169760</td>\n",
       "    </tr>\n",
       "    <tr>\n",
       "      <th>1</th>\n",
       "      <td>Combine this with the polling of staffers re climate change and womens' rights and you have a fascist state. https://t.co/ifrm7eexpj</td>\n",
       "      <td>35326</td>\n",
       "    </tr>\n",
       "    <tr>\n",
       "      <th>2</th>\n",
       "      <td>The scary, unimpeachable evidence that climate change is already here: https://t.co/yAedqcV9Ki #itstimetochange #climatechange @ZEROCO2_;..</td>\n",
       "      <td>224985</td>\n",
       "    </tr>\n",
       "    <tr>\n",
       "      <th>3</th>\n",
       "      <td>@Karoli @morgfair @OsborneInk @dailykos \\nPutin got to you too Jill ! \\nTrump doesn't believe in climate change at all \\nThinks it's s hoax</td>\n",
       "      <td>476263</td>\n",
       "    </tr>\n",
       "    <tr>\n",
       "      <th>4</th>\n",
       "      <td>RT @FakeWillMoore: 'Female orgasms cause global warming!'\\n-Sarcastic Republican</td>\n",
       "      <td>872928</td>\n",
       "    </tr>\n",
       "  </tbody>\n",
       "</table>\n",
       "</div>"
      ],
      "text/plain": [
       "                                                                                                                                       message  \\\n",
       "0  Europe will now be looking to China to make sure that it is not alone in fighting climate change… https://t.co/O7T8rCgwDq                     \n",
       "1  Combine this with the polling of staffers re climate change and womens' rights and you have a fascist state. https://t.co/ifrm7eexpj          \n",
       "2  The scary, unimpeachable evidence that climate change is already here: https://t.co/yAedqcV9Ki #itstimetochange #climatechange @ZEROCO2_;..   \n",
       "3  @Karoli @morgfair @OsborneInk @dailykos \\nPutin got to you too Jill ! \\nTrump doesn't believe in climate change at all \\nThinks it's s hoax   \n",
       "4  RT @FakeWillMoore: 'Female orgasms cause global warming!'\\n-Sarcastic Republican                                                              \n",
       "\n",
       "   tweetid  \n",
       "0  169760   \n",
       "1  35326    \n",
       "2  224985   \n",
       "3  476263   \n",
       "4  872928   "
      ]
     },
     "execution_count": 5,
     "metadata": {},
     "output_type": "execute_result"
    }
   ],
   "source": [
    "df_test.head()"
   ]
  },
  {
   "cell_type": "code",
   "execution_count": 6,
   "metadata": {
    "execution": {
     "iopub.execute_input": "2021-06-04T10:58:02.907447Z",
     "iopub.status.busy": "2021-06-04T10:58:02.906876Z",
     "iopub.status.idle": "2021-06-04T10:58:02.912463Z",
     "shell.execute_reply": "2021-06-04T10:58:02.912857Z",
     "shell.execute_reply.started": "2021-06-04T09:24:23.870382Z"
    },
    "papermill": {
     "duration": 0.02845,
     "end_time": "2021-06-04T10:58:02.913003",
     "exception": false,
     "start_time": "2021-06-04T10:58:02.884553",
     "status": "completed"
    },
    "tags": []
   },
   "outputs": [
    {
     "name": "stdout",
     "output_type": "stream",
     "text": [
      "The shape of the training set is:\n",
      "(15819, 3)\n",
      "The shape of the testing set is:\n",
      "(10546, 2)\n",
      "the total entries of the dataset\n",
      "26365\n"
     ]
    }
   ],
   "source": [
    "# checking the dataset Dimensions\n",
    "print(\"The shape of the training set is:\")\n",
    "print(df_train.shape) \n",
    "print(\"The shape of the testing set is:\")\n",
    "print(df_test.shape)\n",
    "# adding the rows of both training and testing set for the total entries\n",
    "print(\"the total entries of the dataset\")\n",
    "print(len(df_train) + len(df_test))"
   ]
  },
  {
   "cell_type": "code",
   "execution_count": 7,
   "metadata": {
    "execution": {
     "iopub.execute_input": "2021-06-04T10:58:02.954287Z",
     "iopub.status.busy": "2021-06-04T10:58:02.953705Z",
     "iopub.status.idle": "2021-06-04T10:58:02.969873Z",
     "shell.execute_reply": "2021-06-04T10:58:02.969329Z",
     "shell.execute_reply.started": "2021-06-04T09:25:24.672902Z"
    },
    "papermill": {
     "duration": 0.039541,
     "end_time": "2021-06-04T10:58:02.970004",
     "exception": false,
     "start_time": "2021-06-04T10:58:02.930463",
     "status": "completed"
    },
    "tags": []
   },
   "outputs": [
    {
     "name": "stdout",
     "output_type": "stream",
     "text": [
      "<class 'pandas.core.frame.DataFrame'>\n",
      "RangeIndex: 15819 entries, 0 to 15818\n",
      "Data columns (total 3 columns):\n",
      " #   Column     Non-Null Count  Dtype \n",
      "---  ------     --------------  ----- \n",
      " 0   sentiment  15819 non-null  int64 \n",
      " 1   message    15819 non-null  object\n",
      " 2   tweetid    15819 non-null  int64 \n",
      "dtypes: int64(2), object(1)\n",
      "memory usage: 370.9+ KB\n"
     ]
    }
   ],
   "source": [
    "df_train.info()"
   ]
  },
  {
   "cell_type": "markdown",
   "metadata": {
    "papermill": {
     "duration": 0.016999,
     "end_time": "2021-06-04T10:58:03.004586",
     "exception": false,
     "start_time": "2021-06-04T10:58:02.987587",
     "status": "completed"
    },
    "tags": []
   },
   "source": [
    "Data has 3 columns, numeric and string data types, 15819 tweets and no missing values. Below is the type of sentiments the data contains"
   ]
  },
  {
   "cell_type": "code",
   "execution_count": 8,
   "metadata": {
    "execution": {
     "iopub.execute_input": "2021-06-04T10:58:03.045719Z",
     "iopub.status.busy": "2021-06-04T10:58:03.044953Z",
     "iopub.status.idle": "2021-06-04T10:58:03.048908Z",
     "shell.execute_reply": "2021-06-04T10:58:03.048433Z",
     "shell.execute_reply.started": "2021-06-04T09:28:55.004688Z"
    },
    "papermill": {
     "duration": 0.027244,
     "end_time": "2021-06-04T10:58:03.049030",
     "exception": false,
     "start_time": "2021-06-04T10:58:03.021786",
     "status": "completed"
    },
    "tags": []
   },
   "outputs": [
    {
     "name": "stdout",
     "output_type": "stream",
     "text": [
      "[1, 2, 0, -1]\n"
     ]
    }
   ],
   "source": [
    "type_sentiment = list(df_train.sentiment.unique())\n",
    "print(type_sentiment)"
   ]
  },
  {
   "cell_type": "markdown",
   "metadata": {
    "papermill": {
     "duration": 0.017526,
     "end_time": "2021-06-04T10:58:03.084545",
     "exception": false,
     "start_time": "2021-06-04T10:58:03.067019",
     "status": "completed"
    },
    "tags": []
   },
   "source": [
    "We have 4 types of sentiments in our dataset. Now lets see how many data samples we have for each sentiment"
   ]
  },
  {
   "cell_type": "code",
   "execution_count": 9,
   "metadata": {
    "execution": {
     "iopub.execute_input": "2021-06-04T10:58:03.125412Z",
     "iopub.status.busy": "2021-06-04T10:58:03.124817Z",
     "iopub.status.idle": "2021-06-04T10:58:03.303243Z",
     "shell.execute_reply": "2021-06-04T10:58:03.302713Z",
     "shell.execute_reply.started": "2021-06-04T10:54:41.028612Z"
    },
    "papermill": {
     "duration": 0.201061,
     "end_time": "2021-06-04T10:58:03.303376",
     "exception": false,
     "start_time": "2021-06-04T10:58:03.102315",
     "status": "completed"
    },
    "tags": []
   },
   "outputs": [
    {
     "data": {
      "image/png": "[encoded data removed]",
      "text/plain": [
       "<Figure size 432x288 with 1 Axes>"
      ]
     },
     "metadata": {},
     "output_type": "display_data"
    }
   ],
   "source": [
    "df_train['sentiment'].value_counts().plot(kind = 'bar')\n",
    "plt.show()"
   ]
  },
  {
   "cell_type": "markdown",
   "metadata": {
    "papermill": {
     "duration": 0.018035,
     "end_time": "2021-06-04T10:58:03.339417",
     "exception": false,
     "start_time": "2021-06-04T10:58:03.321382",
     "status": "completed"
    },
    "tags": []
   },
   "source": [
    "## Data Cleaning "
   ]
  },
  {
   "cell_type": "markdown",
   "metadata": {
    "papermill": {
     "duration": 0.017628,
     "end_time": "2021-06-04T10:58:03.375177",
     "exception": false,
     "start_time": "2021-06-04T10:58:03.357549",
     "status": "completed"
    },
    "tags": []
   },
   "source": [
    "Removing Noise In text analytics, removing noise (i.e. unneccesary information) is a key part of getting the data into a usable format. Our data contains uppercase letters, special characters as urls, these needs to be removed in the data cleaning process"
   ]
  },
  {
   "cell_type": "code",
   "execution_count": 10,
   "metadata": {
    "execution": {
     "iopub.execute_input": "2021-06-04T10:58:03.420956Z",
     "iopub.status.busy": "2021-06-04T10:58:03.420048Z",
     "iopub.status.idle": "2021-06-04T10:58:03.424446Z",
     "shell.execute_reply": "2021-06-04T10:58:03.423898Z",
     "shell.execute_reply.started": "2021-06-04T10:54:55.290699Z"
    },
    "papermill": {
     "duration": 0.031288,
     "end_time": "2021-06-04T10:58:03.424577",
     "exception": false,
     "start_time": "2021-06-04T10:58:03.393289",
     "status": "completed"
    },
    "tags": []
   },
   "outputs": [
    {
     "data": {
      "text/html": [
       "<div>\n",
       "<style scoped>\n",
       "    .dataframe tbody tr th:only-of-type {\n",
       "        vertical-align: middle;\n",
       "    }\n",
       "\n",
       "    .dataframe tbody tr th {\n",
       "        vertical-align: top;\n",
       "    }\n",
       "\n",
       "    .dataframe thead th {\n",
       "        text-align: right;\n",
       "    }\n",
       "</style>\n",
       "<table border=\"1\" class=\"dataframe\">\n",
       "  <thead>\n",
       "    <tr style=\"text-align: right;\">\n",
       "      <th></th>\n",
       "      <th>sentiment</th>\n",
       "      <th>message</th>\n",
       "      <th>tweetid</th>\n",
       "    </tr>\n",
       "  </thead>\n",
       "  <tbody>\n",
       "    <tr>\n",
       "      <th>0</th>\n",
       "      <td>1</td>\n",
       "      <td>PolySciMajor EPA chief doesn't think carbon dioxide is main cause of global warming and.. wait, what!? https://t.co/yeLvcEFXkC via @mashable</td>\n",
       "      <td>625221</td>\n",
       "    </tr>\n",
       "    <tr>\n",
       "      <th>1</th>\n",
       "      <td>1</td>\n",
       "      <td>It's not like we lack evidence of anthropogenic global warming</td>\n",
       "      <td>126103</td>\n",
       "    </tr>\n",
       "    <tr>\n",
       "      <th>2</th>\n",
       "      <td>2</td>\n",
       "      <td>RT @RawStory: Researchers say we have three years to act on climate change before it’s too late https://t.co/WdT0KdUr2f https://t.co/Z0ANPT…</td>\n",
       "      <td>698562</td>\n",
       "    </tr>\n",
       "    <tr>\n",
       "      <th>3</th>\n",
       "      <td>1</td>\n",
       "      <td>#TodayinMaker# WIRED : 2016 was a pivotal year in the war on climate change https://t.co/44wOTxTLcD</td>\n",
       "      <td>573736</td>\n",
       "    </tr>\n",
       "    <tr>\n",
       "      <th>4</th>\n",
       "      <td>1</td>\n",
       "      <td>RT @SoyNovioDeTodas: It's 2016, and a racist, sexist, climate change denying bigot is leading in the polls. #ElectionNight</td>\n",
       "      <td>466954</td>\n",
       "    </tr>\n",
       "  </tbody>\n",
       "</table>\n",
       "</div>"
      ],
      "text/plain": [
       "   sentiment  \\\n",
       "0  1           \n",
       "1  1           \n",
       "2  2           \n",
       "3  1           \n",
       "4  1           \n",
       "\n",
       "                                                                                                                                        message  \\\n",
       "0  PolySciMajor EPA chief doesn't think carbon dioxide is main cause of global warming and.. wait, what!? https://t.co/yeLvcEFXkC via @mashable   \n",
       "1  It's not like we lack evidence of anthropogenic global warming                                                                                 \n",
       "2  RT @RawStory: Researchers say we have three years to act on climate change before it’s too late https://t.co/WdT0KdUr2f https://t.co/Z0ANPT…   \n",
       "3  #TodayinMaker# WIRED : 2016 was a pivotal year in the war on climate change https://t.co/44wOTxTLcD                                            \n",
       "4  RT @SoyNovioDeTodas: It's 2016, and a racist, sexist, climate change denying bigot is leading in the polls. #ElectionNight                     \n",
       "\n",
       "   tweetid  \n",
       "0  625221   \n",
       "1  126103   \n",
       "2  698562   \n",
       "3  573736   \n",
       "4  466954   "
      ]
     },
     "execution_count": 10,
     "metadata": {},
     "output_type": "execute_result"
    }
   ],
   "source": [
    "df_train.head()"
   ]
  },
  {
   "cell_type": "code",
   "execution_count": 11,
   "metadata": {
    "execution": {
     "iopub.execute_input": "2021-06-04T10:58:03.498766Z",
     "iopub.status.busy": "2021-06-04T10:58:03.493527Z",
     "iopub.status.idle": "2021-06-04T10:58:03.697667Z",
     "shell.execute_reply": "2021-06-04T10:58:03.697164Z",
     "shell.execute_reply.started": "2021-06-04T10:55:01.631411Z"
    },
    "papermill": {
     "duration": 0.254536,
     "end_time": "2021-06-04T10:58:03.697791",
     "exception": false,
     "start_time": "2021-06-04T10:58:03.443255",
     "status": "completed"
    },
    "tags": []
   },
   "outputs": [
    {
     "data": {
      "text/html": [
       "<div>\n",
       "<style scoped>\n",
       "    .dataframe tbody tr th:only-of-type {\n",
       "        vertical-align: middle;\n",
       "    }\n",
       "\n",
       "    .dataframe tbody tr th {\n",
       "        vertical-align: top;\n",
       "    }\n",
       "\n",
       "    .dataframe thead th {\n",
       "        text-align: right;\n",
       "    }\n",
       "</style>\n",
       "<table border=\"1\" class=\"dataframe\">\n",
       "  <thead>\n",
       "    <tr style=\"text-align: right;\">\n",
       "      <th></th>\n",
       "      <th>sentiment</th>\n",
       "      <th>message</th>\n",
       "      <th>tweetid</th>\n",
       "    </tr>\n",
       "  </thead>\n",
       "  <tbody>\n",
       "    <tr>\n",
       "      <th>0</th>\n",
       "      <td>1</td>\n",
       "      <td>polyscimajor epa chief doesnt think carbon dioxide is main cause of global warming and wait what urlweb via mashable</td>\n",
       "      <td>625221</td>\n",
       "    </tr>\n",
       "    <tr>\n",
       "      <th>1</th>\n",
       "      <td>1</td>\n",
       "      <td>its not like we lack evidence of anthropogenic global warming</td>\n",
       "      <td>126103</td>\n",
       "    </tr>\n",
       "    <tr>\n",
       "      <th>2</th>\n",
       "      <td>2</td>\n",
       "      <td>rt rawstory researchers say we have three years to act on climate change before it’s too late urlweb urlweb…</td>\n",
       "      <td>698562</td>\n",
       "    </tr>\n",
       "    <tr>\n",
       "      <th>3</th>\n",
       "      <td>1</td>\n",
       "      <td>todayinmaker wired  2016 was a pivotal year in the war on climate change urlweb</td>\n",
       "      <td>573736</td>\n",
       "    </tr>\n",
       "    <tr>\n",
       "      <th>4</th>\n",
       "      <td>1</td>\n",
       "      <td>rt soynoviodetodas its 2016 and a racist sexist climate change denying bigot is leading in the polls electionnight</td>\n",
       "      <td>466954</td>\n",
       "    </tr>\n",
       "  </tbody>\n",
       "</table>\n",
       "</div>"
      ],
      "text/plain": [
       "   sentiment  \\\n",
       "0  1           \n",
       "1  1           \n",
       "2  2           \n",
       "3  1           \n",
       "4  1           \n",
       "\n",
       "                                                                                                                message  \\\n",
       "0  polyscimajor epa chief doesnt think carbon dioxide is main cause of global warming and wait what urlweb via mashable   \n",
       "1  its not like we lack evidence of anthropogenic global warming                                                          \n",
       "2  rt rawstory researchers say we have three years to act on climate change before it’s too late urlweb urlweb…           \n",
       "3  todayinmaker wired  2016 was a pivotal year in the war on climate change urlweb                                        \n",
       "4  rt soynoviodetodas its 2016 and a racist sexist climate change denying bigot is leading in the polls electionnight     \n",
       "\n",
       "   tweetid  \n",
       "0  625221   \n",
       "1  126103   \n",
       "2  698562   \n",
       "3  573736   \n",
       "4  466954   "
      ]
     },
     "execution_count": 11,
     "metadata": {},
     "output_type": "execute_result"
    }
   ],
   "source": [
    "### Remove urls and replace them with the word 'url-web'\n",
    "#Our data doesn't seem to have any urls, adding code just in case\n",
    "pattern_url = r'http[s]?://(?:[A-Za-z]|[0-9]|[$-_@.&+]|[!*\\(\\),]|(?:%[0-9A-Fa-f][0-9A-Fa-f]))+'\n",
    "subs_url = r'url-web'\n",
    "df_train['message'] = df_train['message'].replace(to_replace = pattern_url, value = subs_url, regex = True)\n",
    "\n",
    "##Convert all lowercase to uppercase\n",
    "df_train['message'] = df_train['message'].str.lower()\n",
    "\n",
    "### Remove special characters, symbols\n",
    "def remove_punctuation(post):\n",
    "    return ''.join([l for l in post if l not in string.punctuation])\n",
    "\n",
    "df_train['message'] = df_train['message'].apply(remove_punctuation)\n",
    "\n",
    "df_train.head()"
   ]
  },
  {
   "cell_type": "markdown",
   "metadata": {
    "papermill": {
     "duration": 0.018449,
     "end_time": "2021-06-04T10:58:03.734931",
     "exception": false,
     "start_time": "2021-06-04T10:58:03.716482",
     "status": "completed"
    },
    "tags": []
   },
   "source": [
    "### Tokenisation\n",
    "A tokeniser divides text into a sequence of tokens. We will use tokenisers to clean up the data, making it ready for analysis.\n",
    " "
   ]
  },
  {
   "cell_type": "code",
   "execution_count": 12,
   "metadata": {
    "execution": {
     "iopub.execute_input": "2021-06-04T10:58:03.802700Z",
     "iopub.status.busy": "2021-06-04T10:58:03.797671Z",
     "iopub.status.idle": "2021-06-04T10:58:05.235383Z",
     "shell.execute_reply": "2021-06-04T10:58:05.235754Z",
     "shell.execute_reply.started": "2021-06-04T10:55:10.077585Z"
    },
    "papermill": {
     "duration": 1.482301,
     "end_time": "2021-06-04T10:58:05.235907",
     "exception": false,
     "start_time": "2021-06-04T10:58:03.753606",
     "status": "completed"
    },
    "tags": []
   },
   "outputs": [
    {
     "data": {
      "text/plain": [
       "0    [polyscimajor, epa, chief, doesnt, think, carbon, dioxide, is, main, cause, of, global, warming, and, wait, what, urlweb, via, mashable]\n",
       "1    [its, not, like, we, lack, evidence, of, anthropogenic, global, warming]                                                                \n",
       "2    [rt, rawstory, researchers, say, we, have, three, years, to, act, on, climate, change, before, it’s, too, late, urlweb, urlweb…]        \n",
       "3    [todayinmaker, wired, 2016, was, a, pivotal, year, in, the, war, on, climate, change, urlweb]                                           \n",
       "4    [rt, soynoviodetodas, its, 2016, and, a, racist, sexist, climate, change, denying, bigot, is, leading, in, the, polls, electionnight]   \n",
       "Name: tokens, dtype: object"
      ]
     },
     "execution_count": 12,
     "metadata": {},
     "output_type": "execute_result"
    }
   ],
   "source": [
    "tokeniser = TreebankWordTokenizer()\n",
    "df_train['tokens'] = df_train['message'].apply(tokeniser.tokenize)\n",
    "\n",
    "df_train['tokens'].head()"
   ]
  },
  {
   "cell_type": "markdown",
   "metadata": {
    "papermill": {
     "duration": 0.018628,
     "end_time": "2021-06-04T10:58:05.273278",
     "exception": false,
     "start_time": "2021-06-04T10:58:05.254650",
     "status": "completed"
    },
    "tags": []
   },
   "source": [
    "### Lemmatisation\n",
    "Lemmatizing is the process of grouping words of similar meaning together. So, your root stem, meaning the word you end up with, is not something you can just look up in a dictionary, but you can look up a lemma."
   ]
  },
  {
   "cell_type": "code",
   "execution_count": 13,
   "metadata": {
    "execution": {
     "iopub.execute_input": "2021-06-04T10:58:05.316879Z",
     "iopub.status.busy": "2021-06-04T10:58:05.316293Z",
     "iopub.status.idle": "2021-06-04T10:58:07.872171Z",
     "shell.execute_reply": "2021-06-04T10:58:07.871548Z",
     "shell.execute_reply.started": "2021-06-04T10:55:18.290293Z"
    },
    "papermill": {
     "duration": 2.580207,
     "end_time": "2021-06-04T10:58:07.872304",
     "exception": false,
     "start_time": "2021-06-04T10:58:05.292097",
     "status": "completed"
    },
    "tags": []
   },
   "outputs": [],
   "source": [
    "#nltk.download('wordnet')\n",
    "def train_lemma(words, lemmatizer):\n",
    "    return [lemmatizer.lemmatize(word) for word in words]  \n",
    "\n",
    "lemmatizer = WordNetLemmatizer()\n",
    "\n",
    "df_train['lemma'] = df_train['tokens'].apply(train_lemma, args=(lemmatizer, ))"
   ]
  },
  {
   "cell_type": "code",
   "execution_count": 14,
   "metadata": {
    "execution": {
     "iopub.execute_input": "2021-06-04T10:58:07.919151Z",
     "iopub.status.busy": "2021-06-04T10:58:07.917859Z",
     "iopub.status.idle": "2021-06-04T10:58:07.924264Z",
     "shell.execute_reply": "2021-06-04T10:58:07.923821Z",
     "shell.execute_reply.started": "2021-06-04T09:43:28.303733Z"
    },
    "papermill": {
     "duration": 0.032523,
     "end_time": "2021-06-04T10:58:07.924402",
     "exception": false,
     "start_time": "2021-06-04T10:58:07.891879",
     "status": "completed"
    },
    "tags": []
   },
   "outputs": [
    {
     "name": "stdout",
     "output_type": "stream",
     "text": [
      "rt                   --> rt        \n",
      "glblctzn             --> glblctzn  \n",
      "i                    --> i         \n",
      "dont                 --> dont      \n",
      "wan                  --> wan       \n",
      "na                   --> na        \n",
      "live                 --> live      \n",
      "forever              --> forever   \n",
      "–                    --> –         \n",
      "and                  --> and       \n",
      "nothing              --> nothing   \n",
      "will                 --> will      \n",
      "because              --> because   \n",
      "climate              --> climate   \n",
      "change               --> change    \n",
      "����️��              --> ����️��   \n",
      "taylorswift13        --> taylorswift13\n",
      "zaynmalik            --> zaynmalik \n",
      "urlweb               --> urlweb    \n"
     ]
    }
   ],
   "source": [
    "#print out lemmmatisation results\n",
    "for i, t in enumerate(df_train.iloc[15]['tokens']):    \n",
    "    print ('{:20s} --> {:10s}'.format(t, df_train.iloc[15]['lemma'][i]))"
   ]
  },
  {
   "cell_type": "markdown",
   "metadata": {
    "papermill": {
     "duration": 0.018874,
     "end_time": "2021-06-04T10:58:07.962825",
     "exception": false,
     "start_time": "2021-06-04T10:58:07.943951",
     "status": "completed"
    },
    "tags": []
   },
   "source": [
    "### Stop words\n",
    "\n",
    "Stop words are words which do not contain important significance to be used in Search Queries. Usually these words are filtered out from search queries because they return a vast amount of unnecessary information."
   ]
  },
  {
   "cell_type": "code",
   "execution_count": 15,
   "metadata": {
    "execution": {
     "iopub.execute_input": "2021-06-04T10:58:08.005561Z",
     "iopub.status.busy": "2021-06-04T10:58:08.004875Z",
     "iopub.status.idle": "2021-06-04T10:58:08.021901Z",
     "shell.execute_reply": "2021-06-04T10:58:08.021364Z",
     "shell.execute_reply.started": "2021-06-04T09:55:07.98375Z"
    },
    "papermill": {
     "duration": 0.039936,
     "end_time": "2021-06-04T10:58:08.022036",
     "exception": false,
     "start_time": "2021-06-04T10:58:07.982100",
     "status": "completed"
    },
    "tags": []
   },
   "outputs": [
    {
     "name": "stdout",
     "output_type": "stream",
     "text": [
      "['i', 'me', 'my', 'myself', 'we', 'our', 'ours', 'ourselves', 'you', \"you're\", \"you've\", \"you'll\", \"you'd\", 'your', 'yours', 'yourself', 'yourselves', 'he', 'him', 'his', 'himself', 'she', \"she's\", 'her', 'hers', 'herself', 'it', \"it's\", 'its', 'itself', 'they', 'them', 'their', 'theirs', 'themselves', 'what', 'which', 'who', 'whom', 'this', 'that', \"that'll\", 'these', 'those', 'am', 'is', 'are', 'was', 'were', 'be', 'been', 'being', 'have', 'has', 'had', 'having', 'do', 'does', 'did', 'doing', 'a', 'an', 'the', 'and', 'but', 'if', 'or', 'because', 'as', 'until', 'while', 'of', 'at', 'by', 'for', 'with', 'about', 'against', 'between', 'into', 'through', 'during', 'before', 'after', 'above', 'below', 'to', 'from', 'up', 'down', 'in', 'out', 'on', 'off', 'over', 'under', 'again', 'further', 'then', 'once', 'here', 'there', 'when', 'where', 'why', 'how', 'all', 'any', 'both', 'each', 'few', 'more', 'most', 'other', 'some', 'such', 'no', 'nor', 'not', 'only', 'own', 'same', 'so', 'than', 'too', 'very', 's', 't', 'can', 'will', 'just', 'don', \"don't\", 'should', \"should've\", 'now', 'd', 'll', 'm', 'o', 're', 've', 'y', 'ain', 'aren', \"aren't\", 'couldn', \"couldn't\", 'didn', \"didn't\", 'doesn', \"doesn't\", 'hadn', \"hadn't\", 'hasn', \"hasn't\", 'haven', \"haven't\", 'isn', \"isn't\", 'ma', 'mightn', \"mightn't\", 'mustn', \"mustn't\", 'needn', \"needn't\", 'shan', \"shan't\", 'shouldn', \"shouldn't\", 'wasn', \"wasn't\", 'weren', \"weren't\", 'won', \"won't\", 'wouldn', \"wouldn't\"]\n"
     ]
    }
   ],
   "source": [
    "stopwords_list = stopwords.words('english')\n",
    "print(stopwords_list) #view list of all the stopwords"
   ]
  },
  {
   "cell_type": "code",
   "execution_count": 16,
   "metadata": {
    "execution": {
     "iopub.execute_input": "2021-06-04T10:58:08.068548Z",
     "iopub.status.busy": "2021-06-04T10:58:08.067577Z",
     "iopub.status.idle": "2021-06-04T10:58:36.139303Z",
     "shell.execute_reply": "2021-06-04T10:58:36.139714Z",
     "shell.execute_reply.started": "2021-06-04T09:47:35.900416Z"
    },
    "papermill": {
     "duration": 28.097671,
     "end_time": "2021-06-04T10:58:36.139885",
     "exception": false,
     "start_time": "2021-06-04T10:58:08.042214",
     "status": "completed"
    },
    "tags": []
   },
   "outputs": [],
   "source": [
    "# function removes stop words from the text\n",
    "\n",
    "def remove_stop_words(tokens):    \n",
    "    return [t for t in tokens if t not in stopwords.words('english')]\n",
    "\n",
    "#apply function to dataset\n",
    "df_train['lemma'] = df_train['tokens'].apply(remove_stop_words)"
   ]
  },
  {
   "cell_type": "code",
   "execution_count": 17,
   "metadata": {
    "execution": {
     "iopub.execute_input": "2021-06-04T10:58:36.186209Z",
     "iopub.status.busy": "2021-06-04T10:58:36.185470Z",
     "iopub.status.idle": "2021-06-04T10:58:36.189246Z",
     "shell.execute_reply": "2021-06-04T10:58:36.189626Z",
     "shell.execute_reply.started": "2021-06-04T09:48:34.72648Z"
    },
    "papermill": {
     "duration": 0.030169,
     "end_time": "2021-06-04T10:58:36.189798",
     "exception": false,
     "start_time": "2021-06-04T10:58:36.159629",
     "status": "completed"
    },
    "tags": []
   },
   "outputs": [
    {
     "data": {
      "text/plain": [
       "0    [polyscimajor, epa, chief, doesnt, think, carbon, dioxide, main, cause, global, warming, wait, urlweb, via, mashable]\n",
       "1    [like, lack, evidence, anthropogenic, global, warming]                                                               \n",
       "2    [rt, rawstory, researchers, say, three, years, act, climate, change, it’s, late, urlweb, urlweb…]                    \n",
       "3    [todayinmaker, wired, 2016, pivotal, year, war, climate, change, urlweb]                                             \n",
       "4    [rt, soynoviodetodas, 2016, racist, sexist, climate, change, denying, bigot, leading, polls, electionnight]          \n",
       "Name: lemma, dtype: object"
      ]
     },
     "execution_count": 17,
     "metadata": {},
     "output_type": "execute_result"
    }
   ],
   "source": [
    "df_train['lemma'].head()"
   ]
  },
  {
   "cell_type": "markdown",
   "metadata": {
    "papermill": {
     "duration": 0.019978,
     "end_time": "2021-06-04T10:58:36.230220",
     "exception": false,
     "start_time": "2021-06-04T10:58:36.210242",
     "status": "completed"
    },
    "tags": []
   },
   "source": [
    "## Exploratory Data Analysis"
   ]
  },
  {
   "cell_type": "markdown",
   "metadata": {
    "papermill": {
     "duration": 0.019891,
     "end_time": "2021-06-04T10:58:36.270145",
     "exception": false,
     "start_time": "2021-06-04T10:58:36.250254",
     "status": "completed"
    },
    "tags": []
   },
   "source": [
    "### Feature Extraction"
   ]
  },
  {
   "cell_type": "markdown",
   "metadata": {},
   "source": [
    "# 1. Building the `Classifier`"
   ]
  },
  {
   "cell_type": "code",
   "execution_count": 21,
   "metadata": {},
   "outputs": [
    {
     "data": {
      "text/html": [
       "<div>\n",
       "<style scoped>\n",
       "    .dataframe tbody tr th:only-of-type {\n",
       "        vertical-align: middle;\n",
       "    }\n",
       "\n",
       "    .dataframe tbody tr th {\n",
       "        vertical-align: top;\n",
       "    }\n",
       "\n",
       "    .dataframe thead th {\n",
       "        text-align: right;\n",
       "    }\n",
       "</style>\n",
       "<table border=\"1\" class=\"dataframe\">\n",
       "  <thead>\n",
       "    <tr style=\"text-align: right;\">\n",
       "      <th></th>\n",
       "      <th>message</th>\n",
       "      <th>tweetid</th>\n",
       "    </tr>\n",
       "  </thead>\n",
       "  <tbody>\n",
       "    <tr>\n",
       "      <th>0</th>\n",
       "      <td>Europe will now be looking to China to make sure that it is not alone in fighting climate change… https://t.co/O7T8rCgwDq</td>\n",
       "      <td>169760</td>\n",
       "    </tr>\n",
       "    <tr>\n",
       "      <th>1</th>\n",
       "      <td>Combine this with the polling of staffers re climate change and womens' rights and you have a fascist state. https://t.co/ifrm7eexpj</td>\n",
       "      <td>35326</td>\n",
       "    </tr>\n",
       "    <tr>\n",
       "      <th>2</th>\n",
       "      <td>The scary, unimpeachable evidence that climate change is already here: https://t.co/yAedqcV9Ki #itstimetochange #climatechange @ZEROCO2_;..</td>\n",
       "      <td>224985</td>\n",
       "    </tr>\n",
       "    <tr>\n",
       "      <th>3</th>\n",
       "      <td>@Karoli @morgfair @OsborneInk @dailykos \\nPutin got to you too Jill ! \\nTrump doesn't believe in climate change at all \\nThinks it's s hoax</td>\n",
       "      <td>476263</td>\n",
       "    </tr>\n",
       "    <tr>\n",
       "      <th>4</th>\n",
       "      <td>RT @FakeWillMoore: 'Female orgasms cause global warming!'\\n-Sarcastic Republican</td>\n",
       "      <td>872928</td>\n",
       "    </tr>\n",
       "    <tr>\n",
       "      <th>...</th>\n",
       "      <td>...</td>\n",
       "      <td>...</td>\n",
       "    </tr>\n",
       "    <tr>\n",
       "      <th>10541</th>\n",
       "      <td>RT @BrittanyBohrer: Brb, writing a poem about climate change. #climatechange #science #poetry #fakenews #alternativefacts https://t.co/RpUs…</td>\n",
       "      <td>895714</td>\n",
       "    </tr>\n",
       "    <tr>\n",
       "      <th>10542</th>\n",
       "      <td>2016: the year climate change came home: During the hottest year on record, Karl Mathiesen travelled to Tasmania… https://t.co/WwSrJQfvMg</td>\n",
       "      <td>875167</td>\n",
       "    </tr>\n",
       "    <tr>\n",
       "      <th>10543</th>\n",
       "      <td>RT @loop_vanuatu: Pacific countries positive about Fiji leading the global climate change conference in November. https://t.co/PIPRndhkYd</td>\n",
       "      <td>78329</td>\n",
       "    </tr>\n",
       "    <tr>\n",
       "      <th>10544</th>\n",
       "      <td>RT @xanria_00018: You’re so hot, you must be the cause for global warming. #ALDUBLaborOfLove @jophie30 @asn585</td>\n",
       "      <td>867455</td>\n",
       "    </tr>\n",
       "    <tr>\n",
       "      <th>10545</th>\n",
       "      <td>RT @chloebalaoing: climate change is a global issue that's only getting worse. eating plant based is the least amount of effort that h…</td>\n",
       "      <td>470892</td>\n",
       "    </tr>\n",
       "  </tbody>\n",
       "</table>\n",
       "<p>10546 rows × 2 columns</p>\n",
       "</div>"
      ],
      "text/plain": [
       "                                                                                                                                            message  \\\n",
       "0      Europe will now be looking to China to make sure that it is not alone in fighting climate change… https://t.co/O7T8rCgwDq                      \n",
       "1      Combine this with the polling of staffers re climate change and womens' rights and you have a fascist state. https://t.co/ifrm7eexpj           \n",
       "2      The scary, unimpeachable evidence that climate change is already here: https://t.co/yAedqcV9Ki #itstimetochange #climatechange @ZEROCO2_;..    \n",
       "3      @Karoli @morgfair @OsborneInk @dailykos \\nPutin got to you too Jill ! \\nTrump doesn't believe in climate change at all \\nThinks it's s hoax    \n",
       "4      RT @FakeWillMoore: 'Female orgasms cause global warming!'\\n-Sarcastic Republican                                                               \n",
       "...                                                                                 ...                                                               \n",
       "10541  RT @BrittanyBohrer: Brb, writing a poem about climate change. #climatechange #science #poetry #fakenews #alternativefacts https://t.co/RpUs…   \n",
       "10542  2016: the year climate change came home: During the hottest year on record, Karl Mathiesen travelled to Tasmania… https://t.co/WwSrJQfvMg      \n",
       "10543  RT @loop_vanuatu: Pacific countries positive about Fiji leading the global climate change conference in November. https://t.co/PIPRndhkYd      \n",
       "10544  RT @xanria_00018: You’re so hot, you must be the cause for global warming. #ALDUBLaborOfLove @jophie30 @asn585                                 \n",
       "10545  RT @chloebalaoing: climate change is a global issue that's only getting worse. eating plant based is the least amount of effort that h…        \n",
       "\n",
       "       tweetid  \n",
       "0      169760   \n",
       "1      35326    \n",
       "2      224985   \n",
       "3      476263   \n",
       "4      872928   \n",
       "...       ...   \n",
       "10541  895714   \n",
       "10542  875167   \n",
       "10543  78329    \n",
       "10544  867455   \n",
       "10545  470892   \n",
       "\n",
       "[10546 rows x 2 columns]"
      ]
     },
     "execution_count": 21,
     "metadata": {},
     "output_type": "execute_result"
    }
   ],
   "source": [
    "df_test"
   ]
  },
  {
   "cell_type": "code",
   "execution_count": 22,
   "metadata": {},
   "outputs": [
    {
     "data": {
      "text/html": [
       "<div>\n",
       "<style scoped>\n",
       "    .dataframe tbody tr th:only-of-type {\n",
       "        vertical-align: middle;\n",
       "    }\n",
       "\n",
       "    .dataframe tbody tr th {\n",
       "        vertical-align: top;\n",
       "    }\n",
       "\n",
       "    .dataframe thead th {\n",
       "        text-align: right;\n",
       "    }\n",
       "</style>\n",
       "<table border=\"1\" class=\"dataframe\">\n",
       "  <thead>\n",
       "    <tr style=\"text-align: right;\">\n",
       "      <th></th>\n",
       "      <th>sentiment</th>\n",
       "      <th>message</th>\n",
       "      <th>tweetid</th>\n",
       "      <th>tokens</th>\n",
       "      <th>lemma</th>\n",
       "    </tr>\n",
       "  </thead>\n",
       "  <tbody>\n",
       "    <tr>\n",
       "      <th>0</th>\n",
       "      <td>1</td>\n",
       "      <td>polyscimajor epa chief doesnt think carbon dioxide is main cause of global warming and wait what urlweb via mashable</td>\n",
       "      <td>625221</td>\n",
       "      <td>[polyscimajor, epa, chief, doesnt, think, carbon, dioxide, is, main, cause, of, global, warming, and, wait, what, urlweb, via, mashable]</td>\n",
       "      <td>[polyscimajor, epa, chief, doesnt, think, carbon, dioxide, main, cause, global, warming, wait, urlweb, via, mashable]</td>\n",
       "    </tr>\n",
       "    <tr>\n",
       "      <th>1</th>\n",
       "      <td>1</td>\n",
       "      <td>its not like we lack evidence of anthropogenic global warming</td>\n",
       "      <td>126103</td>\n",
       "      <td>[its, not, like, we, lack, evidence, of, anthropogenic, global, warming]</td>\n",
       "      <td>[like, lack, evidence, anthropogenic, global, warming]</td>\n",
       "    </tr>\n",
       "    <tr>\n",
       "      <th>2</th>\n",
       "      <td>2</td>\n",
       "      <td>rt rawstory researchers say we have three years to act on climate change before it’s too late urlweb urlweb…</td>\n",
       "      <td>698562</td>\n",
       "      <td>[rt, rawstory, researchers, say, we, have, three, years, to, act, on, climate, change, before, it’s, too, late, urlweb, urlweb…]</td>\n",
       "      <td>[rt, rawstory, researchers, say, three, years, act, climate, change, it’s, late, urlweb, urlweb…]</td>\n",
       "    </tr>\n",
       "    <tr>\n",
       "      <th>3</th>\n",
       "      <td>1</td>\n",
       "      <td>todayinmaker wired  2016 was a pivotal year in the war on climate change urlweb</td>\n",
       "      <td>573736</td>\n",
       "      <td>[todayinmaker, wired, 2016, was, a, pivotal, year, in, the, war, on, climate, change, urlweb]</td>\n",
       "      <td>[todayinmaker, wired, 2016, pivotal, year, war, climate, change, urlweb]</td>\n",
       "    </tr>\n",
       "    <tr>\n",
       "      <th>4</th>\n",
       "      <td>1</td>\n",
       "      <td>rt soynoviodetodas its 2016 and a racist sexist climate change denying bigot is leading in the polls electionnight</td>\n",
       "      <td>466954</td>\n",
       "      <td>[rt, soynoviodetodas, its, 2016, and, a, racist, sexist, climate, change, denying, bigot, is, leading, in, the, polls, electionnight]</td>\n",
       "      <td>[rt, soynoviodetodas, 2016, racist, sexist, climate, change, denying, bigot, leading, polls, electionnight]</td>\n",
       "    </tr>\n",
       "    <tr>\n",
       "      <th>...</th>\n",
       "      <td>...</td>\n",
       "      <td>...</td>\n",
       "      <td>...</td>\n",
       "      <td>...</td>\n",
       "      <td>...</td>\n",
       "    </tr>\n",
       "    <tr>\n",
       "      <th>15814</th>\n",
       "      <td>1</td>\n",
       "      <td>rt ezlusztig they took down the material on global warming lgbt rights and health care but now theyre hocking melanias qvc https…</td>\n",
       "      <td>22001</td>\n",
       "      <td>[rt, ezlusztig, they, took, down, the, material, on, global, warming, lgbt, rights, and, health, care, but, now, theyre, hocking, melanias, qvc, https…]</td>\n",
       "      <td>[rt, ezlusztig, took, material, global, warming, lgbt, rights, health, care, theyre, hocking, melanias, qvc, https…]</td>\n",
       "    </tr>\n",
       "    <tr>\n",
       "      <th>15815</th>\n",
       "      <td>2</td>\n",
       "      <td>rt washingtonpost how climate change could be breaking up a 200millionyearold relationship urlweb</td>\n",
       "      <td>17856</td>\n",
       "      <td>[rt, washingtonpost, how, climate, change, could, be, breaking, up, a, 200millionyearold, relationship, urlweb]</td>\n",
       "      <td>[rt, washingtonpost, climate, change, could, breaking, 200millionyearold, relationship, urlweb]</td>\n",
       "    </tr>\n",
       "    <tr>\n",
       "      <th>15816</th>\n",
       "      <td>0</td>\n",
       "      <td>notiven rt nytimesworld what does trump actually believe about climate change rick perry joins other aides in … urlweb</td>\n",
       "      <td>384248</td>\n",
       "      <td>[notiven, rt, nytimesworld, what, does, trump, actually, believe, about, climate, change, rick, perry, joins, other, aides, in, …, urlweb]</td>\n",
       "      <td>[notiven, rt, nytimesworld, trump, actually, believe, climate, change, rick, perry, joins, aides, …, urlweb]</td>\n",
       "    </tr>\n",
       "    <tr>\n",
       "      <th>15817</th>\n",
       "      <td>-1</td>\n",
       "      <td>rt sara8smiles hey liberals the climate change crap is a hoax that ties to agenda2030\\nthe climate is being changed byã¢â‚¬â¦</td>\n",
       "      <td>819732</td>\n",
       "      <td>[rt, sara8smiles, hey, liberals, the, climate, change, crap, is, a, hoax, that, ties, to, agenda2030, the, climate, is, being, changed, byã¢â‚¬â¦]</td>\n",
       "      <td>[rt, sara8smiles, hey, liberals, climate, change, crap, hoax, ties, agenda2030, climate, changed, byã¢â‚¬â¦]</td>\n",
       "    </tr>\n",
       "    <tr>\n",
       "      <th>15818</th>\n",
       "      <td>0</td>\n",
       "      <td>rt chetcannon kurteichenwalds climate change equation in 4 screenshots urlweb</td>\n",
       "      <td>806319</td>\n",
       "      <td>[rt, chetcannon, kurteichenwalds, climate, change, equation, in, 4, screenshots, urlweb]</td>\n",
       "      <td>[rt, chetcannon, kurteichenwalds, climate, change, equation, 4, screenshots, urlweb]</td>\n",
       "    </tr>\n",
       "  </tbody>\n",
       "</table>\n",
       "<p>15819 rows × 5 columns</p>\n",
       "</div>"
      ],
      "text/plain": [
       "       sentiment  \\\n",
       "0      1           \n",
       "1      1           \n",
       "2      2           \n",
       "3      1           \n",
       "4      1           \n",
       "...   ..           \n",
       "15814  1           \n",
       "15815  2           \n",
       "15816  0           \n",
       "15817 -1           \n",
       "15818  0           \n",
       "\n",
       "                                                                                                                                 message  \\\n",
       "0      polyscimajor epa chief doesnt think carbon dioxide is main cause of global warming and wait what urlweb via mashable                \n",
       "1      its not like we lack evidence of anthropogenic global warming                                                                       \n",
       "2      rt rawstory researchers say we have three years to act on climate change before it’s too late urlweb urlweb…                        \n",
       "3      todayinmaker wired  2016 was a pivotal year in the war on climate change urlweb                                                     \n",
       "4      rt soynoviodetodas its 2016 and a racist sexist climate change denying bigot is leading in the polls electionnight                  \n",
       "...                                                                                                                   ...                  \n",
       "15814  rt ezlusztig they took down the material on global warming lgbt rights and health care but now theyre hocking melanias qvc https…   \n",
       "15815  rt washingtonpost how climate change could be breaking up a 200millionyearold relationship urlweb                                   \n",
       "15816  notiven rt nytimesworld what does trump actually believe about climate change rick perry joins other aides in … urlweb              \n",
       "15817  rt sara8smiles hey liberals the climate change crap is a hoax that ties to agenda2030\\nthe climate is being changed byã¢â‚¬â¦       \n",
       "15818  rt chetcannon kurteichenwalds climate change equation in 4 screenshots urlweb                                                       \n",
       "\n",
       "       tweetid  \\\n",
       "0      625221    \n",
       "1      126103    \n",
       "2      698562    \n",
       "3      573736    \n",
       "4      466954    \n",
       "...       ...    \n",
       "15814  22001     \n",
       "15815  17856     \n",
       "15816  384248    \n",
       "15817  819732    \n",
       "15818  806319    \n",
       "\n",
       "                                                                                                                                                         tokens  \\\n",
       "0      [polyscimajor, epa, chief, doesnt, think, carbon, dioxide, is, main, cause, of, global, warming, and, wait, what, urlweb, via, mashable]                   \n",
       "1      [its, not, like, we, lack, evidence, of, anthropogenic, global, warming]                                                                                   \n",
       "2      [rt, rawstory, researchers, say, we, have, three, years, to, act, on, climate, change, before, it’s, too, late, urlweb, urlweb…]                           \n",
       "3      [todayinmaker, wired, 2016, was, a, pivotal, year, in, the, war, on, climate, change, urlweb]                                                              \n",
       "4      [rt, soynoviodetodas, its, 2016, and, a, racist, sexist, climate, change, denying, bigot, is, leading, in, the, polls, electionnight]                      \n",
       "...                                                                                                                                      ...                      \n",
       "15814  [rt, ezlusztig, they, took, down, the, material, on, global, warming, lgbt, rights, and, health, care, but, now, theyre, hocking, melanias, qvc, https…]   \n",
       "15815  [rt, washingtonpost, how, climate, change, could, be, breaking, up, a, 200millionyearold, relationship, urlweb]                                            \n",
       "15816  [notiven, rt, nytimesworld, what, does, trump, actually, believe, about, climate, change, rick, perry, joins, other, aides, in, …, urlweb]                 \n",
       "15817  [rt, sara8smiles, hey, liberals, the, climate, change, crap, is, a, hoax, that, ties, to, agenda2030, the, climate, is, being, changed, byã¢â‚¬â¦]         \n",
       "15818  [rt, chetcannon, kurteichenwalds, climate, change, equation, in, 4, screenshots, urlweb]                                                                   \n",
       "\n",
       "                                                                                                                       lemma  \n",
       "0      [polyscimajor, epa, chief, doesnt, think, carbon, dioxide, main, cause, global, warming, wait, urlweb, via, mashable]  \n",
       "1      [like, lack, evidence, anthropogenic, global, warming]                                                                 \n",
       "2      [rt, rawstory, researchers, say, three, years, act, climate, change, it’s, late, urlweb, urlweb…]                      \n",
       "3      [todayinmaker, wired, 2016, pivotal, year, war, climate, change, urlweb]                                               \n",
       "4      [rt, soynoviodetodas, 2016, racist, sexist, climate, change, denying, bigot, leading, polls, electionnight]            \n",
       "...                                                                                                            ...            \n",
       "15814  [rt, ezlusztig, took, material, global, warming, lgbt, rights, health, care, theyre, hocking, melanias, qvc, https…]   \n",
       "15815  [rt, washingtonpost, climate, change, could, breaking, 200millionyearold, relationship, urlweb]                        \n",
       "15816  [notiven, rt, nytimesworld, trump, actually, believe, climate, change, rick, perry, joins, aides, …, urlweb]           \n",
       "15817  [rt, sara8smiles, hey, liberals, climate, change, crap, hoax, ties, agenda2030, climate, changed, byã¢â‚¬â¦]           \n",
       "15818  [rt, chetcannon, kurteichenwalds, climate, change, equation, 4, screenshots, urlweb]                                   \n",
       "\n",
       "[15819 rows x 5 columns]"
      ]
     },
     "execution_count": 22,
     "metadata": {},
     "output_type": "execute_result"
    }
   ],
   "source": [
    "df_train"
   ]
  },
  {
   "cell_type": "code",
   "execution_count": 20,
   "metadata": {},
   "outputs": [],
   "source": [
    "# Vetorizing the features"
   ]
  },
  {
   "cell_type": "code",
   "execution_count": 207,
   "metadata": {},
   "outputs": [],
   "source": [
    "df_x = df_train['lemma']\n",
    "df_y = df_train['sentiment']"
   ]
  },
  {
   "cell_type": "code",
   "execution_count": 113,
   "metadata": {},
   "outputs": [],
   "source": [
    "cv = CountVectorizer()"
   ]
  },
  {
   "cell_type": "code",
   "execution_count": 116,
   "metadata": {},
   "outputs": [],
   "source": [
    "X_train, X_test, y_train, y_test = train_test_split(df_x,df_y , test_size = 0.2, random_state = 4)"
   ]
  },
  {
   "cell_type": "code",
   "execution_count": 24,
   "metadata": {},
   "outputs": [],
   "source": [
    "from sklearn.feature_extraction.text import CountVectorizer"
   ]
  },
  {
   "cell_type": "code",
   "execution_count": null,
   "metadata": {},
   "outputs": [],
   "source": []
  }
 ],
 "metadata": {
  "kernelspec": {
   "display_name": "Python 3",
   "language": "python",
   "name": "python3"
  },
  "language_info": {
   "codemirror_mode": {
    "name": "ipython",
    "version": 3
   },
   "file_extension": ".py",
   "mimetype": "text/x-python",
   "name": "python",
   "nbconvert_exporter": "python",
   "pygments_lexer": "ipython3",
   "version": "3.8.5"
  },
  "papermill": {
   "default_parameters": {},
   "duration": 43.640048,
   "end_time": "2021-06-04T10:58:37.300382",
   "environment_variables": {},
   "exception": null,
   "input_path": "__notebook__.ipynb",
   "output_path": "__notebook__.ipynb",
   "parameters": {},
   "start_time": "2021-06-04T10:57:53.660334",
   "version": "2.3.3"
  }
 },
 "nbformat": 4,
 "nbformat_minor": 5
}
