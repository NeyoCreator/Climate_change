{
 "cells": [
  {
   "cell_type": "markdown",
   "metadata": {},
   "source": [
    "# Importing Libraries"
   ]
  },
  {
   "cell_type": "code",
   "execution_count": 2,
   "metadata": {},
   "outputs": [],
   "source": [
    "import numpy as np # linear algebra\n",
    "import pandas as pd # data processing\n",
    "\n",
    "##Data Cleaning\n",
    "import nltk #\n",
    "import string #to remove all punctuation marks in the corpus/ document\n",
    "from nltk.tokenize import word_tokenize, TreebankWordTokenizer\n",
    "from nltk import SnowballStemmer, PorterStemmer, LancasterStemmer\n",
    "from nltk.stem import WordNetLemmatizer\n",
    "from nltk.corpus import stopwords\n",
    "\n",
    "import matplotlib.pyplot as plt\n",
    "import seaborn as sns\n",
    "%matplotlib inline\n",
    "import re\n",
    "\n",
    "# set plot style\n",
    "sns.set()"
   ]
  },
  {
   "cell_type": "markdown",
   "metadata": {},
   "source": [
    "# Loading Data"
   ]
  },
  {
   "cell_type": "code",
   "execution_count": 3,
   "metadata": {},
   "outputs": [],
   "source": [
    "df_train = pd.read_csv(\"train.csv\")\n",
    "df_test = pd.read_csv(\"test.csv\")"
   ]
  },
  {
   "cell_type": "markdown",
   "metadata": {},
   "source": [
    "## view the `data`"
   ]
  },
  {
   "cell_type": "code",
   "execution_count": 4,
   "metadata": {},
   "outputs": [],
   "source": [
    "#set the dataframe to show whole text"
   ]
  },
  {
   "cell_type": "code",
   "execution_count": 5,
   "metadata": {},
   "outputs": [
    {
     "name": "stderr",
     "output_type": "stream",
     "text": [
      "<ipython-input-5-a09e5efec013>:1: FutureWarning: Passing a negative integer is deprecated in version 1.0 and will not be supported in future version. Instead, use None to not limit the column width.\n",
      "  pd.set_option(\"display.max_colwidth\", -1)\n"
     ]
    }
   ],
   "source": [
    "pd.set_option(\"display.max_colwidth\", -1)"
   ]
  },
  {
   "cell_type": "code",
   "execution_count": 6,
   "metadata": {},
   "outputs": [
    {
     "data": {
      "text/html": [
       "<div>\n",
       "<style scoped>\n",
       "    .dataframe tbody tr th:only-of-type {\n",
       "        vertical-align: middle;\n",
       "    }\n",
       "\n",
       "    .dataframe tbody tr th {\n",
       "        vertical-align: top;\n",
       "    }\n",
       "\n",
       "    .dataframe thead th {\n",
       "        text-align: right;\n",
       "    }\n",
       "</style>\n",
       "<table border=\"1\" class=\"dataframe\">\n",
       "  <thead>\n",
       "    <tr style=\"text-align: right;\">\n",
       "      <th></th>\n",
       "      <th>sentiment</th>\n",
       "      <th>message</th>\n",
       "      <th>tweetid</th>\n",
       "    </tr>\n",
       "  </thead>\n",
       "  <tbody>\n",
       "    <tr>\n",
       "      <th>0</th>\n",
       "      <td>1</td>\n",
       "      <td>PolySciMajor EPA chief doesn't think carbon dioxide is main cause of global warming and.. wait, what!? https://t.co/yeLvcEFXkC via @mashable</td>\n",
       "      <td>625221</td>\n",
       "    </tr>\n",
       "    <tr>\n",
       "      <th>1</th>\n",
       "      <td>1</td>\n",
       "      <td>It's not like we lack evidence of anthropogenic global warming</td>\n",
       "      <td>126103</td>\n",
       "    </tr>\n",
       "    <tr>\n",
       "      <th>2</th>\n",
       "      <td>2</td>\n",
       "      <td>RT @RawStory: Researchers say we have three years to act on climate change before it’s too late https://t.co/WdT0KdUr2f https://t.co/Z0ANPT…</td>\n",
       "      <td>698562</td>\n",
       "    </tr>\n",
       "    <tr>\n",
       "      <th>3</th>\n",
       "      <td>1</td>\n",
       "      <td>#TodayinMaker# WIRED : 2016 was a pivotal year in the war on climate change https://t.co/44wOTxTLcD</td>\n",
       "      <td>573736</td>\n",
       "    </tr>\n",
       "    <tr>\n",
       "      <th>4</th>\n",
       "      <td>1</td>\n",
       "      <td>RT @SoyNovioDeTodas: It's 2016, and a racist, sexist, climate change denying bigot is leading in the polls. #ElectionNight</td>\n",
       "      <td>466954</td>\n",
       "    </tr>\n",
       "  </tbody>\n",
       "</table>\n",
       "</div>"
      ],
      "text/plain": [
       "   sentiment  \\\n",
       "0  1           \n",
       "1  1           \n",
       "2  2           \n",
       "3  1           \n",
       "4  1           \n",
       "\n",
       "                                                                                                                                        message  \\\n",
       "0  PolySciMajor EPA chief doesn't think carbon dioxide is main cause of global warming and.. wait, what!? https://t.co/yeLvcEFXkC via @mashable   \n",
       "1  It's not like we lack evidence of anthropogenic global warming                                                                                 \n",
       "2  RT @RawStory: Researchers say we have three years to act on climate change before it’s too late https://t.co/WdT0KdUr2f https://t.co/Z0ANPT…   \n",
       "3  #TodayinMaker# WIRED : 2016 was a pivotal year in the war on climate change https://t.co/44wOTxTLcD                                            \n",
       "4  RT @SoyNovioDeTodas: It's 2016, and a racist, sexist, climate change denying bigot is leading in the polls. #ElectionNight                     \n",
       "\n",
       "   tweetid  \n",
       "0  625221   \n",
       "1  126103   \n",
       "2  698562   \n",
       "3  573736   \n",
       "4  466954   "
      ]
     },
     "execution_count": 6,
     "metadata": {},
     "output_type": "execute_result"
    }
   ],
   "source": [
    "df_train.head()"
   ]
  },
  {
   "cell_type": "code",
   "execution_count": 7,
   "metadata": {},
   "outputs": [
    {
     "data": {
      "text/html": [
       "<div>\n",
       "<style scoped>\n",
       "    .dataframe tbody tr th:only-of-type {\n",
       "        vertical-align: middle;\n",
       "    }\n",
       "\n",
       "    .dataframe tbody tr th {\n",
       "        vertical-align: top;\n",
       "    }\n",
       "\n",
       "    .dataframe thead th {\n",
       "        text-align: right;\n",
       "    }\n",
       "</style>\n",
       "<table border=\"1\" class=\"dataframe\">\n",
       "  <thead>\n",
       "    <tr style=\"text-align: right;\">\n",
       "      <th></th>\n",
       "      <th>message</th>\n",
       "      <th>tweetid</th>\n",
       "    </tr>\n",
       "  </thead>\n",
       "  <tbody>\n",
       "    <tr>\n",
       "      <th>0</th>\n",
       "      <td>Europe will now be looking to China to make sure that it is not alone in fighting climate change… https://t.co/O7T8rCgwDq</td>\n",
       "      <td>169760</td>\n",
       "    </tr>\n",
       "    <tr>\n",
       "      <th>1</th>\n",
       "      <td>Combine this with the polling of staffers re climate change and womens' rights and you have a fascist state. https://t.co/ifrm7eexpj</td>\n",
       "      <td>35326</td>\n",
       "    </tr>\n",
       "    <tr>\n",
       "      <th>2</th>\n",
       "      <td>The scary, unimpeachable evidence that climate change is already here: https://t.co/yAedqcV9Ki #itstimetochange #climatechange @ZEROCO2_;..</td>\n",
       "      <td>224985</td>\n",
       "    </tr>\n",
       "    <tr>\n",
       "      <th>3</th>\n",
       "      <td>@Karoli @morgfair @OsborneInk @dailykos \\nPutin got to you too Jill ! \\nTrump doesn't believe in climate change at all \\nThinks it's s hoax</td>\n",
       "      <td>476263</td>\n",
       "    </tr>\n",
       "    <tr>\n",
       "      <th>4</th>\n",
       "      <td>RT @FakeWillMoore: 'Female orgasms cause global warming!'\\n-Sarcastic Republican</td>\n",
       "      <td>872928</td>\n",
       "    </tr>\n",
       "  </tbody>\n",
       "</table>\n",
       "</div>"
      ],
      "text/plain": [
       "                                                                                                                                       message  \\\n",
       "0  Europe will now be looking to China to make sure that it is not alone in fighting climate change… https://t.co/O7T8rCgwDq                     \n",
       "1  Combine this with the polling of staffers re climate change and womens' rights and you have a fascist state. https://t.co/ifrm7eexpj          \n",
       "2  The scary, unimpeachable evidence that climate change is already here: https://t.co/yAedqcV9Ki #itstimetochange #climatechange @ZEROCO2_;..   \n",
       "3  @Karoli @morgfair @OsborneInk @dailykos \\nPutin got to you too Jill ! \\nTrump doesn't believe in climate change at all \\nThinks it's s hoax   \n",
       "4  RT @FakeWillMoore: 'Female orgasms cause global warming!'\\n-Sarcastic Republican                                                              \n",
       "\n",
       "   tweetid  \n",
       "0  169760   \n",
       "1  35326    \n",
       "2  224985   \n",
       "3  476263   \n",
       "4  872928   "
      ]
     },
     "execution_count": 7,
     "metadata": {},
     "output_type": "execute_result"
    }
   ],
   "source": [
    "df_test.head()"
   ]
  },
  {
   "cell_type": "code",
   "execution_count": 8,
   "metadata": {},
   "outputs": [
    {
     "name": "stdout",
     "output_type": "stream",
     "text": [
      "The shape of the training set is :\n",
      "(15819, 3)\n",
      "The shape of testing set is :\n",
      "(10546, 2)\n",
      "the total entries of the dataset\n",
      "26365\n"
     ]
    }
   ],
   "source": [
    "# cehcking the dataset dimensions\n",
    "print(\"The shape of the training set is :\")\n",
    "print(df_train.shape)\n",
    "print(\"The shape of testing set is :\")\n",
    "print(df_test.shape)\n",
    "#adding the rows of both training and testing set for the total enteries\n",
    "print(\"the total entries of the dataset\")\n",
    "print(len(df_train)+len(df_test))"
   ]
  },
  {
   "cell_type": "code",
   "execution_count": 9,
   "metadata": {},
   "outputs": [
    {
     "name": "stdout",
     "output_type": "stream",
     "text": [
      "<class 'pandas.core.frame.DataFrame'>\n",
      "RangeIndex: 15819 entries, 0 to 15818\n",
      "Data columns (total 3 columns):\n",
      " #   Column     Non-Null Count  Dtype \n",
      "---  ------     --------------  ----- \n",
      " 0   sentiment  15819 non-null  int64 \n",
      " 1   message    15819 non-null  object\n",
      " 2   tweetid    15819 non-null  int64 \n",
      "dtypes: int64(2), object(1)\n",
      "memory usage: 370.9+ KB\n"
     ]
    }
   ],
   "source": [
    "df_train.info()"
   ]
  },
  {
   "cell_type": "code",
   "execution_count": 10,
   "metadata": {},
   "outputs": [
    {
     "name": "stdout",
     "output_type": "stream",
     "text": [
      "[1, 2, 0, -1]\n"
     ]
    }
   ],
   "source": [
    "type_sentiment = list(df_train.sentiment.unique())\n",
    "print(type_sentiment)"
   ]
  },
  {
   "cell_type": "code",
   "execution_count": 11,
   "metadata": {},
   "outputs": [
    {
     "data": {
      "image/png": "[encoded data removed]",
      "text/plain": [
       "<Figure size 432x288 with 1 Axes>"
      ]
     },
     "metadata": {},
     "output_type": "display_data"
    }
   ],
   "source": [
    "#look at how many data samples we have for each sentiment \n",
    "df_train['sentiment'].value_counts().plot(kind = 'bar')\n",
    "plt.show()"
   ]
  },
  {
   "cell_type": "markdown",
   "metadata": {},
   "source": [
    "# Data Cleaning\n"
   ]
  },
  {
   "cell_type": "code",
   "execution_count": 12,
   "metadata": {},
   "outputs": [],
   "source": [
    "#removing noise i.e Uppercaase letters, special characters as urls"
   ]
  },
  {
   "cell_type": "code",
   "execution_count": 13,
   "metadata": {},
   "outputs": [
    {
     "data": {
      "text/html": [
       "<div>\n",
       "<style scoped>\n",
       "    .dataframe tbody tr th:only-of-type {\n",
       "        vertical-align: middle;\n",
       "    }\n",
       "\n",
       "    .dataframe tbody tr th {\n",
       "        vertical-align: top;\n",
       "    }\n",
       "\n",
       "    .dataframe thead th {\n",
       "        text-align: right;\n",
       "    }\n",
       "</style>\n",
       "<table border=\"1\" class=\"dataframe\">\n",
       "  <thead>\n",
       "    <tr style=\"text-align: right;\">\n",
       "      <th></th>\n",
       "      <th>sentiment</th>\n",
       "      <th>message</th>\n",
       "      <th>tweetid</th>\n",
       "    </tr>\n",
       "  </thead>\n",
       "  <tbody>\n",
       "    <tr>\n",
       "      <th>0</th>\n",
       "      <td>1</td>\n",
       "      <td>PolySciMajor EPA chief doesn't think carbon dioxide is main cause of global warming and.. wait, what!? https://t.co/yeLvcEFXkC via @mashable</td>\n",
       "      <td>625221</td>\n",
       "    </tr>\n",
       "    <tr>\n",
       "      <th>1</th>\n",
       "      <td>1</td>\n",
       "      <td>It's not like we lack evidence of anthropogenic global warming</td>\n",
       "      <td>126103</td>\n",
       "    </tr>\n",
       "    <tr>\n",
       "      <th>2</th>\n",
       "      <td>2</td>\n",
       "      <td>RT @RawStory: Researchers say we have three years to act on climate change before it’s too late https://t.co/WdT0KdUr2f https://t.co/Z0ANPT…</td>\n",
       "      <td>698562</td>\n",
       "    </tr>\n",
       "    <tr>\n",
       "      <th>3</th>\n",
       "      <td>1</td>\n",
       "      <td>#TodayinMaker# WIRED : 2016 was a pivotal year in the war on climate change https://t.co/44wOTxTLcD</td>\n",
       "      <td>573736</td>\n",
       "    </tr>\n",
       "    <tr>\n",
       "      <th>4</th>\n",
       "      <td>1</td>\n",
       "      <td>RT @SoyNovioDeTodas: It's 2016, and a racist, sexist, climate change denying bigot is leading in the polls. #ElectionNight</td>\n",
       "      <td>466954</td>\n",
       "    </tr>\n",
       "  </tbody>\n",
       "</table>\n",
       "</div>"
      ],
      "text/plain": [
       "   sentiment  \\\n",
       "0  1           \n",
       "1  1           \n",
       "2  2           \n",
       "3  1           \n",
       "4  1           \n",
       "\n",
       "                                                                                                                                        message  \\\n",
       "0  PolySciMajor EPA chief doesn't think carbon dioxide is main cause of global warming and.. wait, what!? https://t.co/yeLvcEFXkC via @mashable   \n",
       "1  It's not like we lack evidence of anthropogenic global warming                                                                                 \n",
       "2  RT @RawStory: Researchers say we have three years to act on climate change before it’s too late https://t.co/WdT0KdUr2f https://t.co/Z0ANPT…   \n",
       "3  #TodayinMaker# WIRED : 2016 was a pivotal year in the war on climate change https://t.co/44wOTxTLcD                                            \n",
       "4  RT @SoyNovioDeTodas: It's 2016, and a racist, sexist, climate change denying bigot is leading in the polls. #ElectionNight                     \n",
       "\n",
       "   tweetid  \n",
       "0  625221   \n",
       "1  126103   \n",
       "2  698562   \n",
       "3  573736   \n",
       "4  466954   "
      ]
     },
     "execution_count": 13,
     "metadata": {},
     "output_type": "execute_result"
    }
   ],
   "source": [
    "df_train.head()"
   ]
  },
  {
   "cell_type": "code",
   "execution_count": 14,
   "metadata": {},
   "outputs": [],
   "source": [
    "#remove urls and replace them with word 'url-web'\n",
    "pattern_url = r'http[s]?://(?:[A-Za-z]|[0-9]|[$-_@.&+]|[!*\\(\\),]|(?:%[0-9A-Fa-f][0-9A-Fa-f]))+'\n",
    "subs_url = r'url-web'\n",
    "df_train['message'] = df_train['message'].replace(to_replace=pattern_url,value =subs_url, regex = True)\n",
    "\n",
    "#convert all lowercase to uppercasse\n",
    "df_train['message']= df_train['message'].str.lower()\n",
    "\n",
    "#remove special characters, symbols \n",
    "def remove_punctuation(post):\n",
    "    return ''.join([l for l in post if l not in string.punctuation])\n",
    "\n",
    "df_train['message'] = df_train['message'].apply(remove_punctuation)"
   ]
  },
  {
   "cell_type": "code",
   "execution_count": 15,
   "metadata": {},
   "outputs": [
    {
     "data": {
      "text/html": [
       "<div>\n",
       "<style scoped>\n",
       "    .dataframe tbody tr th:only-of-type {\n",
       "        vertical-align: middle;\n",
       "    }\n",
       "\n",
       "    .dataframe tbody tr th {\n",
       "        vertical-align: top;\n",
       "    }\n",
       "\n",
       "    .dataframe thead th {\n",
       "        text-align: right;\n",
       "    }\n",
       "</style>\n",
       "<table border=\"1\" class=\"dataframe\">\n",
       "  <thead>\n",
       "    <tr style=\"text-align: right;\">\n",
       "      <th></th>\n",
       "      <th>sentiment</th>\n",
       "      <th>message</th>\n",
       "      <th>tweetid</th>\n",
       "    </tr>\n",
       "  </thead>\n",
       "  <tbody>\n",
       "    <tr>\n",
       "      <th>0</th>\n",
       "      <td>1</td>\n",
       "      <td>polyscimajor epa chief doesnt think carbon dioxide is main cause of global warming and wait what urlweb via mashable</td>\n",
       "      <td>625221</td>\n",
       "    </tr>\n",
       "    <tr>\n",
       "      <th>1</th>\n",
       "      <td>1</td>\n",
       "      <td>its not like we lack evidence of anthropogenic global warming</td>\n",
       "      <td>126103</td>\n",
       "    </tr>\n",
       "    <tr>\n",
       "      <th>2</th>\n",
       "      <td>2</td>\n",
       "      <td>rt rawstory researchers say we have three years to act on climate change before it’s too late urlweb urlweb…</td>\n",
       "      <td>698562</td>\n",
       "    </tr>\n",
       "    <tr>\n",
       "      <th>3</th>\n",
       "      <td>1</td>\n",
       "      <td>todayinmaker wired  2016 was a pivotal year in the war on climate change urlweb</td>\n",
       "      <td>573736</td>\n",
       "    </tr>\n",
       "    <tr>\n",
       "      <th>4</th>\n",
       "      <td>1</td>\n",
       "      <td>rt soynoviodetodas its 2016 and a racist sexist climate change denying bigot is leading in the polls electionnight</td>\n",
       "      <td>466954</td>\n",
       "    </tr>\n",
       "    <tr>\n",
       "      <th>5</th>\n",
       "      <td>1</td>\n",
       "      <td>worth a read whether you do or dont believe in climate change urlweb urlweb</td>\n",
       "      <td>425577</td>\n",
       "    </tr>\n",
       "    <tr>\n",
       "      <th>6</th>\n",
       "      <td>1</td>\n",
       "      <td>rt thenation mike pence doesn’t believe in global warming or that smoking causes lung cancer urlweb</td>\n",
       "      <td>294933</td>\n",
       "    </tr>\n",
       "    <tr>\n",
       "      <th>7</th>\n",
       "      <td>1</td>\n",
       "      <td>rt makeandmendlife six big things we can all do today to fight climate change or how to be a climate activistã¢â‚¬â¦ urlweb hã¢â‚¬â¦</td>\n",
       "      <td>992717</td>\n",
       "    </tr>\n",
       "    <tr>\n",
       "      <th>8</th>\n",
       "      <td>1</td>\n",
       "      <td>aceofspadeshq my 8yo nephew is inconsolable he wants to die of old age like me but will perish in the fiery hellscape of climate change</td>\n",
       "      <td>664510</td>\n",
       "    </tr>\n",
       "    <tr>\n",
       "      <th>9</th>\n",
       "      <td>1</td>\n",
       "      <td>rt paigetweedy no offense… but like… how do you just not believe… in global warming………</td>\n",
       "      <td>260471</td>\n",
       "    </tr>\n",
       "  </tbody>\n",
       "</table>\n",
       "</div>"
      ],
      "text/plain": [
       "   sentiment  \\\n",
       "0  1           \n",
       "1  1           \n",
       "2  2           \n",
       "3  1           \n",
       "4  1           \n",
       "5  1           \n",
       "6  1           \n",
       "7  1           \n",
       "8  1           \n",
       "9  1           \n",
       "\n",
       "                                                                                                                                   message  \\\n",
       "0  polyscimajor epa chief doesnt think carbon dioxide is main cause of global warming and wait what urlweb via mashable                      \n",
       "1  its not like we lack evidence of anthropogenic global warming                                                                             \n",
       "2  rt rawstory researchers say we have three years to act on climate change before it’s too late urlweb urlweb…                              \n",
       "3  todayinmaker wired  2016 was a pivotal year in the war on climate change urlweb                                                           \n",
       "4  rt soynoviodetodas its 2016 and a racist sexist climate change denying bigot is leading in the polls electionnight                        \n",
       "5  worth a read whether you do or dont believe in climate change urlweb urlweb                                                               \n",
       "6  rt thenation mike pence doesn’t believe in global warming or that smoking causes lung cancer urlweb                                       \n",
       "7  rt makeandmendlife six big things we can all do today to fight climate change or how to be a climate activistã¢â‚¬â¦ urlweb hã¢â‚¬â¦      \n",
       "8  aceofspadeshq my 8yo nephew is inconsolable he wants to die of old age like me but will perish in the fiery hellscape of climate change   \n",
       "9  rt paigetweedy no offense… but like… how do you just not believe… in global warming………                                                    \n",
       "\n",
       "   tweetid  \n",
       "0  625221   \n",
       "1  126103   \n",
       "2  698562   \n",
       "3  573736   \n",
       "4  466954   \n",
       "5  425577   \n",
       "6  294933   \n",
       "7  992717   \n",
       "8  664510   \n",
       "9  260471   "
      ]
     },
     "execution_count": 15,
     "metadata": {},
     "output_type": "execute_result"
    }
   ],
   "source": [
    "df_train.head(10)"
   ]
  },
  {
   "cell_type": "markdown",
   "metadata": {},
   "source": [
    "# Tokenize "
   ]
  },
  {
   "cell_type": "code",
   "execution_count": 16,
   "metadata": {},
   "outputs": [
    {
     "data": {
      "text/plain": [
       "0    [polyscimajor, epa, chief, doesnt, think, carbon, dioxide, is, main, cause, of, global, warming, and, wait, what, urlweb, via, mashable]\n",
       "1    [its, not, like, we, lack, evidence, of, anthropogenic, global, warming]                                                                \n",
       "2    [rt, rawstory, researchers, say, we, have, three, years, to, act, on, climate, change, before, it’s, too, late, urlweb, urlweb…]        \n",
       "3    [todayinmaker, wired, 2016, was, a, pivotal, year, in, the, war, on, climate, change, urlweb]                                           \n",
       "4    [rt, soynoviodetodas, its, 2016, and, a, racist, sexist, climate, change, denying, bigot, is, leading, in, the, polls, electionnight]   \n",
       "Name: tokens, dtype: object"
      ]
     },
     "execution_count": 16,
     "metadata": {},
     "output_type": "execute_result"
    }
   ],
   "source": [
    "tokeniser = TreebankWordTokenizer()\n",
    "df_train['tokens'] = df_train['message'].apply(tokeniser.tokenize)\n",
    "\n",
    "df_train['tokens'].head()"
   ]
  },
  {
   "cell_type": "markdown",
   "metadata": {},
   "source": [
    "# Lemmenisation"
   ]
  },
  {
   "cell_type": "code",
   "execution_count": 17,
   "metadata": {},
   "outputs": [],
   "source": [
    "#nltk.download('wordnet')\n",
    "def train_lemma(words, lemmatizer):\n",
    "    return [lemmatizer.lemmatize(word) for word in words]  \n",
    "\n",
    "lemmatizer = WordNetLemmatizer()\n",
    "\n",
    "df_train['lemma'] = df_train['tokens'].apply(train_lemma, args=(lemmatizer, ))\n"
   ]
  },
  {
   "cell_type": "code",
   "execution_count": 18,
   "metadata": {},
   "outputs": [
    {
     "name": "stdout",
     "output_type": "stream",
     "text": [
      "rt                   --> rt        \n",
      "alifaith55           --> alifaith55\n",
      "oh                   --> oh        \n",
      "my                   --> my        \n",
      "god                  --> god       \n",
      "trumps               --> trump     \n",
      "government           --> government\n",
      "removes              --> remove    \n",
      "climate              --> climate   \n",
      "change               --> change    \n",
      "page                 --> page      \n",
      "from                 --> from      \n",
      "epa                  --> epa       \n",
      "website              --> website   \n",
      "hours                --> hour      \n",
      "ahead                --> ahead     \n",
      "of                   --> of        \n",
      "climatemarch         --> climatemarch\n",
      "urlweb…              --> urlweb…   \n"
     ]
    }
   ],
   "source": [
    "#print out lemmmatisation results\n",
    "for i, t in enumerate(df_train.iloc[13]['tokens']):    \n",
    "    print ('{:20s} --> {:10s}'.format(t, df_train.iloc[13]['lemma'][i]))"
   ]
  },
  {
   "cell_type": "code",
   "execution_count": 19,
   "metadata": {},
   "outputs": [],
   "source": [
    "# function removes stop words from the text\n",
    "\n",
    "def remove_stop_words(tokens):    \n",
    "    return [t for t in tokens if t not in stopwords.words('english')]\n",
    "\n",
    "#apply function to dataset\n",
    "\n",
    "df_train['lemma'] = df_train['tokens'].apply(remove_stop_words)"
   ]
  },
  {
   "cell_type": "code",
   "execution_count": 20,
   "metadata": {},
   "outputs": [
    {
     "data": {
      "text/html": [
       "<div>\n",
       "<style scoped>\n",
       "    .dataframe tbody tr th:only-of-type {\n",
       "        vertical-align: middle;\n",
       "    }\n",
       "\n",
       "    .dataframe tbody tr th {\n",
       "        vertical-align: top;\n",
       "    }\n",
       "\n",
       "    .dataframe thead th {\n",
       "        text-align: right;\n",
       "    }\n",
       "</style>\n",
       "<table border=\"1\" class=\"dataframe\">\n",
       "  <thead>\n",
       "    <tr style=\"text-align: right;\">\n",
       "      <th></th>\n",
       "      <th>sentiment</th>\n",
       "      <th>message</th>\n",
       "      <th>tweetid</th>\n",
       "      <th>tokens</th>\n",
       "      <th>lemma</th>\n",
       "    </tr>\n",
       "  </thead>\n",
       "  <tbody>\n",
       "    <tr>\n",
       "      <th>0</th>\n",
       "      <td>1</td>\n",
       "      <td>polyscimajor epa chief doesnt think carbon dioxide is main cause of global warming and wait what urlweb via mashable</td>\n",
       "      <td>625221</td>\n",
       "      <td>[polyscimajor, epa, chief, doesnt, think, carbon, dioxide, is, main, cause, of, global, warming, and, wait, what, urlweb, via, mashable]</td>\n",
       "      <td>[polyscimajor, epa, chief, doesnt, think, carbon, dioxide, main, cause, global, warming, wait, urlweb, via, mashable]</td>\n",
       "    </tr>\n",
       "    <tr>\n",
       "      <th>1</th>\n",
       "      <td>1</td>\n",
       "      <td>its not like we lack evidence of anthropogenic global warming</td>\n",
       "      <td>126103</td>\n",
       "      <td>[its, not, like, we, lack, evidence, of, anthropogenic, global, warming]</td>\n",
       "      <td>[like, lack, evidence, anthropogenic, global, warming]</td>\n",
       "    </tr>\n",
       "    <tr>\n",
       "      <th>2</th>\n",
       "      <td>2</td>\n",
       "      <td>rt rawstory researchers say we have three years to act on climate change before it’s too late urlweb urlweb…</td>\n",
       "      <td>698562</td>\n",
       "      <td>[rt, rawstory, researchers, say, we, have, three, years, to, act, on, climate, change, before, it’s, too, late, urlweb, urlweb…]</td>\n",
       "      <td>[rt, rawstory, researchers, say, three, years, act, climate, change, it’s, late, urlweb, urlweb…]</td>\n",
       "    </tr>\n",
       "    <tr>\n",
       "      <th>3</th>\n",
       "      <td>1</td>\n",
       "      <td>todayinmaker wired  2016 was a pivotal year in the war on climate change urlweb</td>\n",
       "      <td>573736</td>\n",
       "      <td>[todayinmaker, wired, 2016, was, a, pivotal, year, in, the, war, on, climate, change, urlweb]</td>\n",
       "      <td>[todayinmaker, wired, 2016, pivotal, year, war, climate, change, urlweb]</td>\n",
       "    </tr>\n",
       "    <tr>\n",
       "      <th>4</th>\n",
       "      <td>1</td>\n",
       "      <td>rt soynoviodetodas its 2016 and a racist sexist climate change denying bigot is leading in the polls electionnight</td>\n",
       "      <td>466954</td>\n",
       "      <td>[rt, soynoviodetodas, its, 2016, and, a, racist, sexist, climate, change, denying, bigot, is, leading, in, the, polls, electionnight]</td>\n",
       "      <td>[rt, soynoviodetodas, 2016, racist, sexist, climate, change, denying, bigot, leading, polls, electionnight]</td>\n",
       "    </tr>\n",
       "    <tr>\n",
       "      <th>...</th>\n",
       "      <td>...</td>\n",
       "      <td>...</td>\n",
       "      <td>...</td>\n",
       "      <td>...</td>\n",
       "      <td>...</td>\n",
       "    </tr>\n",
       "    <tr>\n",
       "      <th>15814</th>\n",
       "      <td>1</td>\n",
       "      <td>rt ezlusztig they took down the material on global warming lgbt rights and health care but now theyre hocking melanias qvc https…</td>\n",
       "      <td>22001</td>\n",
       "      <td>[rt, ezlusztig, they, took, down, the, material, on, global, warming, lgbt, rights, and, health, care, but, now, theyre, hocking, melanias, qvc, https…]</td>\n",
       "      <td>[rt, ezlusztig, took, material, global, warming, lgbt, rights, health, care, theyre, hocking, melanias, qvc, https…]</td>\n",
       "    </tr>\n",
       "    <tr>\n",
       "      <th>15815</th>\n",
       "      <td>2</td>\n",
       "      <td>rt washingtonpost how climate change could be breaking up a 200millionyearold relationship urlweb</td>\n",
       "      <td>17856</td>\n",
       "      <td>[rt, washingtonpost, how, climate, change, could, be, breaking, up, a, 200millionyearold, relationship, urlweb]</td>\n",
       "      <td>[rt, washingtonpost, climate, change, could, breaking, 200millionyearold, relationship, urlweb]</td>\n",
       "    </tr>\n",
       "    <tr>\n",
       "      <th>15816</th>\n",
       "      <td>0</td>\n",
       "      <td>notiven rt nytimesworld what does trump actually believe about climate change rick perry joins other aides in … urlweb</td>\n",
       "      <td>384248</td>\n",
       "      <td>[notiven, rt, nytimesworld, what, does, trump, actually, believe, about, climate, change, rick, perry, joins, other, aides, in, …, urlweb]</td>\n",
       "      <td>[notiven, rt, nytimesworld, trump, actually, believe, climate, change, rick, perry, joins, aides, …, urlweb]</td>\n",
       "    </tr>\n",
       "    <tr>\n",
       "      <th>15817</th>\n",
       "      <td>-1</td>\n",
       "      <td>rt sara8smiles hey liberals the climate change crap is a hoax that ties to agenda2030\\nthe climate is being changed byã¢â‚¬â¦</td>\n",
       "      <td>819732</td>\n",
       "      <td>[rt, sara8smiles, hey, liberals, the, climate, change, crap, is, a, hoax, that, ties, to, agenda2030, the, climate, is, being, changed, byã¢â‚¬â¦]</td>\n",
       "      <td>[rt, sara8smiles, hey, liberals, climate, change, crap, hoax, ties, agenda2030, climate, changed, byã¢â‚¬â¦]</td>\n",
       "    </tr>\n",
       "    <tr>\n",
       "      <th>15818</th>\n",
       "      <td>0</td>\n",
       "      <td>rt chetcannon kurteichenwalds climate change equation in 4 screenshots urlweb</td>\n",
       "      <td>806319</td>\n",
       "      <td>[rt, chetcannon, kurteichenwalds, climate, change, equation, in, 4, screenshots, urlweb]</td>\n",
       "      <td>[rt, chetcannon, kurteichenwalds, climate, change, equation, 4, screenshots, urlweb]</td>\n",
       "    </tr>\n",
       "  </tbody>\n",
       "</table>\n",
       "<p>15819 rows × 5 columns</p>\n",
       "</div>"
      ],
      "text/plain": [
       "       sentiment  \\\n",
       "0      1           \n",
       "1      1           \n",
       "2      2           \n",
       "3      1           \n",
       "4      1           \n",
       "...   ..           \n",
       "15814  1           \n",
       "15815  2           \n",
       "15816  0           \n",
       "15817 -1           \n",
       "15818  0           \n",
       "\n",
       "                                                                                                                                 message  \\\n",
       "0      polyscimajor epa chief doesnt think carbon dioxide is main cause of global warming and wait what urlweb via mashable                \n",
       "1      its not like we lack evidence of anthropogenic global warming                                                                       \n",
       "2      rt rawstory researchers say we have three years to act on climate change before it’s too late urlweb urlweb…                        \n",
       "3      todayinmaker wired  2016 was a pivotal year in the war on climate change urlweb                                                     \n",
       "4      rt soynoviodetodas its 2016 and a racist sexist climate change denying bigot is leading in the polls electionnight                  \n",
       "...                                                                                                                   ...                  \n",
       "15814  rt ezlusztig they took down the material on global warming lgbt rights and health care but now theyre hocking melanias qvc https…   \n",
       "15815  rt washingtonpost how climate change could be breaking up a 200millionyearold relationship urlweb                                   \n",
       "15816  notiven rt nytimesworld what does trump actually believe about climate change rick perry joins other aides in … urlweb              \n",
       "15817  rt sara8smiles hey liberals the climate change crap is a hoax that ties to agenda2030\\nthe climate is being changed byã¢â‚¬â¦       \n",
       "15818  rt chetcannon kurteichenwalds climate change equation in 4 screenshots urlweb                                                       \n",
       "\n",
       "       tweetid  \\\n",
       "0      625221    \n",
       "1      126103    \n",
       "2      698562    \n",
       "3      573736    \n",
       "4      466954    \n",
       "...       ...    \n",
       "15814  22001     \n",
       "15815  17856     \n",
       "15816  384248    \n",
       "15817  819732    \n",
       "15818  806319    \n",
       "\n",
       "                                                                                                                                                         tokens  \\\n",
       "0      [polyscimajor, epa, chief, doesnt, think, carbon, dioxide, is, main, cause, of, global, warming, and, wait, what, urlweb, via, mashable]                   \n",
       "1      [its, not, like, we, lack, evidence, of, anthropogenic, global, warming]                                                                                   \n",
       "2      [rt, rawstory, researchers, say, we, have, three, years, to, act, on, climate, change, before, it’s, too, late, urlweb, urlweb…]                           \n",
       "3      [todayinmaker, wired, 2016, was, a, pivotal, year, in, the, war, on, climate, change, urlweb]                                                              \n",
       "4      [rt, soynoviodetodas, its, 2016, and, a, racist, sexist, climate, change, denying, bigot, is, leading, in, the, polls, electionnight]                      \n",
       "...                                                                                                                                      ...                      \n",
       "15814  [rt, ezlusztig, they, took, down, the, material, on, global, warming, lgbt, rights, and, health, care, but, now, theyre, hocking, melanias, qvc, https…]   \n",
       "15815  [rt, washingtonpost, how, climate, change, could, be, breaking, up, a, 200millionyearold, relationship, urlweb]                                            \n",
       "15816  [notiven, rt, nytimesworld, what, does, trump, actually, believe, about, climate, change, rick, perry, joins, other, aides, in, …, urlweb]                 \n",
       "15817  [rt, sara8smiles, hey, liberals, the, climate, change, crap, is, a, hoax, that, ties, to, agenda2030, the, climate, is, being, changed, byã¢â‚¬â¦]         \n",
       "15818  [rt, chetcannon, kurteichenwalds, climate, change, equation, in, 4, screenshots, urlweb]                                                                   \n",
       "\n",
       "                                                                                                                       lemma  \n",
       "0      [polyscimajor, epa, chief, doesnt, think, carbon, dioxide, main, cause, global, warming, wait, urlweb, via, mashable]  \n",
       "1      [like, lack, evidence, anthropogenic, global, warming]                                                                 \n",
       "2      [rt, rawstory, researchers, say, three, years, act, climate, change, it’s, late, urlweb, urlweb…]                      \n",
       "3      [todayinmaker, wired, 2016, pivotal, year, war, climate, change, urlweb]                                               \n",
       "4      [rt, soynoviodetodas, 2016, racist, sexist, climate, change, denying, bigot, leading, polls, electionnight]            \n",
       "...                                                                                                            ...            \n",
       "15814  [rt, ezlusztig, took, material, global, warming, lgbt, rights, health, care, theyre, hocking, melanias, qvc, https…]   \n",
       "15815  [rt, washingtonpost, climate, change, could, breaking, 200millionyearold, relationship, urlweb]                        \n",
       "15816  [notiven, rt, nytimesworld, trump, actually, believe, climate, change, rick, perry, joins, aides, …, urlweb]           \n",
       "15817  [rt, sara8smiles, hey, liberals, climate, change, crap, hoax, ties, agenda2030, climate, changed, byã¢â‚¬â¦]           \n",
       "15818  [rt, chetcannon, kurteichenwalds, climate, change, equation, 4, screenshots, urlweb]                                   \n",
       "\n",
       "[15819 rows x 5 columns]"
      ]
     },
     "execution_count": 20,
     "metadata": {},
     "output_type": "execute_result"
    }
   ],
   "source": [
    "df_train"
   ]
  },
  {
   "cell_type": "code",
   "execution_count": null,
   "metadata": {},
   "outputs": [],
   "source": []
  }
 ],
 "metadata": {
  "kernelspec": {
   "display_name": "Python 3",
   "language": "python",
   "name": "python3"
  },
  "language_info": {
   "codemirror_mode": {
    "name": "ipython",
    "version": 3
   },
   "file_extension": ".py",
   "mimetype": "text/x-python",
   "name": "python",
   "nbconvert_exporter": "python",
   "pygments_lexer": "ipython3",
   "version": "3.8.5"
  }
 },
 "nbformat": 4,
 "nbformat_minor": 4
}
